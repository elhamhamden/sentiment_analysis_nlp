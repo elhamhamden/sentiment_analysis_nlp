{
  "nbformat": 4,
  "nbformat_minor": 0,
  "metadata": {
    "colab": {
      "provenance": [],
      "collapsed_sections": [
        "kYBuwBP1tGH0"
      ]
    },
    "kernelspec": {
      "name": "python3",
      "display_name": "Python 3"
    },
    "language_info": {
      "name": "python"
    }
  },
  "cells": [
    {
      "cell_type": "markdown",
      "source": [
        "# NLP Lab Task — Preprocessing to Deployment with Twitter Sentiment Dataset\n",
        "\n",
        "## Overview\n",
        "\n",
        "This lab takes students through the **entire NLP pipeline** using a **Twitter Sentiment Analysis dataset** (tweets labeled as positive, negative, or neutral). Students will preprocess the data, represent it using multiple methods, train classical machine learning models, evaluate their results, and finally build a small API for deployment.\n",
        "\n",
        "---\n",
        "\n",
        "## Learning Objectives\n",
        "\n",
        "* Apply text preprocessing (regex, case folding, tokenization, stopword removal, punctuation handling).\n",
        "* Compare stemming and lemmatization, and use POS tagging to analyze counts of nouns, verbs, and adjectives.\n",
        "* Build text representations using **Bag-of-Words**, **TF–IDF**, and **Word2Vec**.\n",
        "* Train classical ML models inside an sklearn **Pipeline**.\n",
        "* Evaluate models with standard metrics and perform basic error analysis.\n",
        "* Save a trained pipeline and build a simple API to serve predictions.\n",
        "\n",
        "---\n",
        "\n",
        "## Dataset\n",
        "\n",
        "We will use the **Sentiment140 Twitter dataset** (1.6M tweets, labeled positive/negative). For simplicity, you can work with a smaller balanced subset (e.g., 10k–20k tweets). This dataset is widely used for sentiment analysis and contains real, noisy text with mentions, hashtags, and emoticons.\n",
        "\n",
        "Dataset link: [Sentiment140](http://help.sentiment140.com/for-students/)\n",
        "\n",
        "---\n",
        "\n",
        "## Step-by-Step Tasks\n",
        "\n",
        "### 1) Exploratory Data Analysis (EDA)\n",
        "\n",
        "* Load dataset, show class distribution, tweet length histogram, and a few sample tweets.\n",
        "* Deliverable: 3 plots (class balance, length histogram, top frequent tokens) + 5 example tweets.\n",
        "\n",
        "### 2) Regex Cleaning\n",
        "\n",
        "* Remove URLs, mentions (@user), hashtags, emojis (or replace with tokens), and extra whitespace.\n",
        "* Show a before-and-after example for at least 3 tweets.\n",
        "\n",
        "### 3) Case Folding & Tokenization\n",
        "\n",
        "* Convert all text to lowercase.\n",
        "* Tokenize tweets using NLTK or spaCy.\n",
        "* Compare vocabulary size before and after cleaning.\n",
        "\n",
        "### 4) Stopwords, Punctuation, and Numbers\n",
        "\n",
        "* Remove stopwords (with NLTK list, customizable).\n",
        "* Decide how to handle punctuation and numbers (remove or replace with `<NUM>`).\n",
        "* Deliverable: short explanation of your choice.\n",
        "\n",
        "### 5) Stemming vs Lemmatization\n",
        "\n",
        "* Use PorterStemmer (stemming) and spaCy lemmatizer.\n",
        "* Show 20 sample words with their stem vs lemma.\n",
        "* Train quick models with both and compare results.\n",
        "\n",
        "### 6) POS Tagging (extra features)\n",
        "\n",
        "* Use spaCy to count nouns, verbs, and adjectives per tweet.\n",
        "* Add these counts as additional numeric features.\n",
        "* Compare model with vs without POS features.\n",
        "\n",
        "### 7) Text Representation\n",
        "\n",
        "* Implement three representations:\n",
        "  1. **Bag-of-Words** (CountVectorizer)\n",
        "  2. **TF–IDF** (TfidfVectorizer)\n",
        "  3. **Word2Vec** (pretrained embeddings, averaged per tweet)\n",
        "* Compare vocabulary sizes and representation dimensions.\n",
        "\n",
        "### 8) Modeling with Pipelines\n",
        "\n",
        "* Use sklearn Pipelines to connect preprocessing + vectorizer + classifier.\n",
        "* Models to try:\n",
        "  * Multinomial Naive Bayes (for BoW/TF–IDF)\n",
        "  * Logistic Regression\n",
        "  * Linear SVM\n",
        "* Deliverable: comparison table (accuracy, F1-score).\n",
        "\n",
        "### 9) Evaluation & Error Analysis\n",
        "\n",
        "* Use held-out test set.\n",
        "* Metrics: accuracy, precision, recall, F1, confusion matrix.\n",
        "* Show 10 misclassified tweets and discuss why they may be difficult.\n",
        "\n",
        "### 10) Save Model Pipeline\n",
        "\n",
        "* Save the best pipeline using `joblib` or `pickle`.\n",
        "* Deliverable: `sentiment_model.pkl` file.\n",
        "\n",
        "### 11) Build a Simple API (Deployment Step)\n",
        "\n",
        "* Create a small Flask API with one endpoint `/predict` that accepts a tweet as input and returns sentiment prediction.\n",
        "* The API should load the saved pipeline and make predictions.\n",
        "* Deliverable: `app.py` with Flask code + test with a sample curl or Postman request.\n",
        "\n",
        "---\n",
        "\n",
        "## Deliverables\n",
        "\n",
        "1. Jupyter Notebook with step-by-step tasks, results, and code.\n",
        "2. Comparison tables for preprocessing choices and representations.\n",
        "3. Saved pipeline file (`.pkl`).\n",
        "4. Flask API script (`app.py`).\n",
        "5. Short report in markdown cell summarizing preprocessing, modeling choices, and results.\n",
        "\n",
        "---\n",
        "\n",
        "This streamlined lab ensures students get hands-on experience with **real-world text preprocessing, classical modeling, and deployment of NLP systems**.\n"
      ],
      "metadata": {
        "id": "dpKLxZ8mNTGE"
      }
    },
    {
      "cell_type": "markdown",
      "source": [
        "### 1. Load the Dataset\n",
        "\n",
        "We will use the **Sentiment140 Twitter Sentiment dataset**.  \n",
        "It contains 1.6 million tweets labeled as positive (4) or negative (0).  \n",
        "For this lab, we will load a smaller subset (e.g., 20,000 rows) for faster experimentation.\n",
        "\n",
        "```python\n",
        "import pandas as pd\n",
        "\n",
        "# Column order for Sentiment140 dataset:\n",
        "# 0 - target (0 = negative, 4 = positive)\n",
        "# 1 - ids\n",
        "# 2 - date\n",
        "# 3 - flag\n",
        "# 4 - user\n",
        "# 5 - text (tweet)\n",
        "\n",
        "# Update the file path if needed\n",
        "file_path = \"sentiment140.csv\"\n",
        "\n",
        "# Load with proper encoding\n",
        "df = pd.read_csv(file_path, encoding='latin-1', header=None)\n",
        "\n",
        "# Assign column names\n",
        "df.columns = [\"target\", \"id\", \"date\", \"flag\", \"user\", \"text\"]\n",
        "\n",
        "# Map target labels: 0 → negative, 4 → positive\n",
        "df[\"target\"] = df[\"target\"].map({0: \"negative\", 4: \"positive\"})\n",
        "\n",
        "# Take a smaller sample for experiments (optional)\n",
        "df = df.sample(20000, random_state=42).reset_index(drop=True)\n",
        "\n",
        "# Quick check\n",
        "print(df.shape)\n",
        "df.head()\n"
      ],
      "metadata": {
        "id": "g5JhT6qqMzOr"
      }
    },
    {
      "cell_type": "code",
      "execution_count": 3,
      "metadata": {
        "colab": {
          "base_uri": "https://localhost:8080/"
        },
        "id": "FckTkNZyMqJw",
        "outputId": "c02d8ee4-35dc-4b2b-eef8-5a7b39786808"
      },
      "outputs": [
        {
          "output_type": "stream",
          "name": "stdout",
          "text": [
            "(20000, 6)\n",
            "Training set: (1600000, 6)\n",
            "     target          id                          date      flag  \\\n",
            "0  negative  1467810369  Mon Apr 06 22:19:45 PDT 2009  NO_QUERY   \n",
            "1  negative  1467810672  Mon Apr 06 22:19:49 PDT 2009  NO_QUERY   \n",
            "2  negative  1467810917  Mon Apr 06 22:19:53 PDT 2009  NO_QUERY   \n",
            "3  negative  1467811184  Mon Apr 06 22:19:57 PDT 2009  NO_QUERY   \n",
            "4  negative  1467811193  Mon Apr 06 22:19:57 PDT 2009  NO_QUERY   \n",
            "\n",
            "              user                                               text  \n",
            "0  _TheSpecialOne_  @switchfoot http://twitpic.com/2y1zl - Awww, t...  \n",
            "1    scotthamilton  is upset that he can't update his Facebook by ...  \n",
            "2         mattycus  @Kenichan I dived many times for the ball. Man...  \n",
            "3          ElleCTF    my whole body feels itchy and like its on fire   \n",
            "4           Karoli  @nationwideclass no, it's not behaving at all....  \n",
            "Test set: (498, 6)\n",
            "     target  id                          date     flag      user  \\\n",
            "0  positive   3  Mon May 11 03:17:40 UTC 2009  kindle2    tpryan   \n",
            "1  positive   4  Mon May 11 03:18:03 UTC 2009  kindle2    vcu451   \n",
            "2  positive   5  Mon May 11 03:18:54 UTC 2009  kindle2    chadfu   \n",
            "3  positive   6  Mon May 11 03:19:04 UTC 2009  kindle2     SIX15   \n",
            "4  positive   7  Mon May 11 03:21:41 UTC 2009  kindle2  yamarama   \n",
            "\n",
            "                                                text  \n",
            "0  @stellargirl I loooooooovvvvvveee my Kindle2. ...  \n",
            "1  Reading my kindle2...  Love it... Lee childs i...  \n",
            "2  Ok, first assesment of the #kindle2 ...it fuck...  \n",
            "3  @kenburbary You'll love your Kindle2. I've had...  \n",
            "4  @mikefish  Fair enough. But i have the Kindle2...  \n"
          ]
        }
      ],
      "source": [
        "import pandas as pd\n",
        "\n",
        "import pandas as pd\n",
        "import zipfile\n",
        "import os\n",
        "import requests\n",
        "\n",
        "# Step 1: Download the dataset (if not already downloaded)\n",
        "url = \"https://cs.stanford.edu/people/alecmgo/trainingandtestdata.zip\"\n",
        "zip_path = \"trainingandtestdata.zip\"\n",
        "\n",
        "if not os.path.exists(zip_path):\n",
        "    print(\"Downloading dataset...\")\n",
        "    r = requests.get(url)\n",
        "    with open(zip_path, \"wb\") as f:\n",
        "        f.write(r.content)\n",
        "\n",
        "# Step 2: Unzip the file\n",
        "with zipfile.ZipFile(zip_path, \"r\") as zip_ref:\n",
        "    zip_ref.extractall(\".\")\n",
        "\n",
        "# Step 3: Load training data\n",
        "file_path = \"training.1600000.processed.noemoticon.csv\"\n",
        "\n",
        "df = pd.read_csv(file_path, encoding=\"latin-1\", header=None)\n",
        "df.columns = [\"target\", \"id\", \"date\", \"flag\", \"user\", \"text\"]\n",
        "\n",
        "# Map sentiment labels: 0 = negative, 4 = positive\n",
        "df[\"target\"] = df[\"target\"].map({0: \"negative\", 4: \"positive\"})\n",
        "\n",
        "# Optional: sample a smaller dataset for quicker experiments\n",
        "df = df.sample(20000, random_state=42).reset_index(drop=True)\n",
        "\n",
        "# Preview the data\n",
        "print(df.shape)\n",
        "df.head()\n",
        "\n",
        "\n",
        "# Load training set\n",
        "train_path = \"training.1600000.processed.noemoticon.csv\"\n",
        "train_df = pd.read_csv(train_path, encoding=\"latin-1\", header=None)\n",
        "train_df.columns = [\"target\", \"id\", \"date\", \"flag\", \"user\", \"text\"]\n",
        "train_df[\"target\"] = train_df[\"target\"].map({0: \"negative\", 4: \"positive\"})\n",
        "\n",
        "print(\"Training set:\", train_df.shape)\n",
        "print(train_df.head())\n",
        "\n",
        "# Load manual test set\n",
        "test_path = \"testdata.manual.2009.06.14.csv\"\n",
        "test_df = pd.read_csv(test_path, encoding=\"latin-1\", header=None)\n",
        "test_df.columns = [\"target\", \"id\", \"date\", \"flag\", \"user\", \"text\"]\n",
        "\n",
        "# This test set has labels 0 (negative), 2 (neutral), 4 (positive)\n",
        "test_df[\"target\"] = test_df[\"target\"].map({0: \"negative\", 2: \"neutral\", 4: \"positive\"})\n",
        "\n",
        "print(\"Test set:\", test_df.shape)\n",
        "print(test_df.head())\n"
      ]
    },
    {
      "cell_type": "markdown",
      "source": [
        "\n",
        "#**IMPORTING LIBRARIES**"
      ],
      "metadata": {
        "id": "9MkA4Hljsq1v"
      }
    },
    {
      "cell_type": "code",
      "source": [
        "import matplotlib.pyplot as plt\n",
        "import seaborn as sns\n",
        "import re\n",
        "from collections import Counter\n",
        "import nltk\n",
        "from nltk.corpus import stopwords\n",
        "from nltk.tokenize import word_tokenize\n",
        "import string\n",
        "from nltk.stem import PorterStemmer\n",
        "import spacy\n",
        "import numpy as np\n",
        "import pandas as pd\n",
        "from scipy.sparse import hstack\n",
        "from sklearn.linear_model import LogisticRegression\n",
        "from sklearn.model_selection import train_test_split\n",
        "from sklearn.metrics import accuracy_score, f1_score\n",
        "from sklearn.feature_extraction.text import CountVectorizer, TfidfVectorizer\n",
        "from gensim.models import KeyedVectors\n",
        "from sklearn.pipeline import Pipeline\n",
        "from sklearn.naive_bayes import MultinomialNB\n",
        "from sklearn.svm import LinearSVC\n",
        "from sklearn.metrics import classification_report, confusion_matrix\n",
        "\n",
        "nltk.download(\"punkt\")\n",
        "nltk.download('punkt_tab')\n",
        "nltk.download(\"stopwords\")"
      ],
      "metadata": {
        "id": "jZgsBciEMrFj",
        "colab": {
          "base_uri": "https://localhost:8080/"
        },
        "outputId": "27331479-7e5f-4196-c5cb-9ebf1be3afca"
      },
      "execution_count": 58,
      "outputs": [
        {
          "output_type": "stream",
          "name": "stderr",
          "text": [
            "[nltk_data] Downloading package punkt to /root/nltk_data...\n",
            "[nltk_data]   Package punkt is already up-to-date!\n",
            "[nltk_data] Downloading package punkt_tab to /root/nltk_data...\n",
            "[nltk_data]   Package punkt_tab is already up-to-date!\n",
            "[nltk_data] Downloading package stopwords to /root/nltk_data...\n",
            "[nltk_data]   Package stopwords is already up-to-date!\n"
          ]
        },
        {
          "output_type": "execute_result",
          "data": {
            "text/plain": [
              "True"
            ]
          },
          "metadata": {},
          "execution_count": 58
        }
      ]
    },
    {
      "cell_type": "markdown",
      "source": [
        "# **1) Exploratory Data Analysis (EDA)**\n",
        "\n",
        "> show class distribution, tweet length histogram, and a few sample tweets\n",
        "\n"
      ],
      "metadata": {
        "id": "kYBuwBP1tGH0"
      }
    },
    {
      "cell_type": "code",
      "source": [
        "plt.figure(figsize=(6,4))\n",
        "sns.countplot(x=\"target\", data=df, order=[\"negative\", \"positive\"])\n",
        "plt.title(\"Class distribution\")\n",
        "plt.xlabel(\"Sentiment\")\n",
        "plt.ylabel(\"Count\")\n",
        "plt.show()"
      ],
      "metadata": {
        "colab": {
          "base_uri": "https://localhost:8080/",
          "height": 410
        },
        "id": "rEVfASqcqhOZ",
        "outputId": "07e4dbe8-471f-4efd-87dc-01947d0bbae4"
      },
      "execution_count": 6,
      "outputs": [
        {
          "output_type": "display_data",
          "data": {
            "text/plain": [
              "<Figure size 600x400 with 1 Axes>"
            ],
            "image/png": "[encoded data removed]"
          },
          "metadata": {}
        }
      ]
    },
    {
      "cell_type": "code",
      "source": [
        "df[\"length\"] = df[\"text\"].str.len()\n",
        "plt.figure(figsize=(8,4))\n",
        "plt.hist(df[\"length\"], bins=50, color=\"skyblue\", edgecolor=\"black\")\n",
        "plt.title(\"Tweet length histogram\")\n",
        "plt.xlabel(\"Length (characters)\")\n",
        "plt.ylabel(\"Frequency\")\n",
        "plt.show()"
      ],
      "metadata": {
        "colab": {
          "base_uri": "https://localhost:8080/",
          "height": 410
        },
        "id": "iCotyNdNqiJ7",
        "outputId": "f6b279e3-da12-4708-dfa8-8bf013c13bfd"
      },
      "execution_count": 7,
      "outputs": [
        {
          "output_type": "display_data",
          "data": {
            "text/plain": [
              "<Figure size 800x400 with 1 Axes>"
            ],
            "image/png": "[encoded data removed]"
          },
          "metadata": {}
        }
      ]
    },
    {
      "cell_type": "code",
      "source": [
        "stop_words = set(stopwords.words(\"english\"))\n",
        "\n",
        "def clean_text(text):\n",
        "    text = re.sub(r\"http\\\\S+\", \"\", str(text))   # remove URLs\n",
        "    text = re.sub(r\"@\\\\w+\", \"\", text)           # remove mentions\n",
        "    text = re.sub(r\"#\", \"\", text)               # remove hashtag symbol\n",
        "    text = re.sub(r\"[^a-zA-Z0-9\\\\s]\", \" \", text)\n",
        "    text = text.lower()\n",
        "    return text\n",
        "\n",
        "all_tokens = []\n",
        "for t in df[\"text\"]:\n",
        "    tokens = word_tokenize(clean_text(t))\n",
        "    tokens = [w for w in tokens if w not in stop_words and len(w) > 1]\n",
        "    all_tokens.extend(tokens)\n",
        "\n",
        "top_tokens = Counter(all_tokens).most_common(30)\n",
        "\n",
        "# plot\n",
        "tokens, counts = zip(*top_tokens)\n",
        "plt.figure(figsize=(10,6))\n",
        "sns.barplot(x=list(counts), y=list(tokens), color=\"purple\")\n",
        "plt.title(\"Top 30 frequent tokens\")\n",
        "plt.xlabel(\"Count\")\n",
        "plt.ylabel(\"Token\")\n",
        "plt.show()"
      ],
      "metadata": {
        "colab": {
          "base_uri": "https://localhost:8080/",
          "height": 564
        },
        "id": "NmYRrEmIqiNT",
        "outputId": "f6b62061-eee0-4bf5-8ceb-cd4915a78043"
      },
      "execution_count": 8,
      "outputs": [
        {
          "output_type": "display_data",
          "data": {
            "text/plain": [
              "<Figure size 1000x600 with 1 Axes>"
            ],
            "image/png": "[encoded data removed]"
          },
          "metadata": {}
        }
      ]
    },
    {
      "cell_type": "code",
      "source": [
        "print(\"=== 5 Example Tweets ===\")\n",
        "print(df[[\"target\", \"text\"]].sample(5, random_state=1))"
      ],
      "metadata": {
        "colab": {
          "base_uri": "https://localhost:8080/"
        },
        "id": "NqbYP3QpqiSS",
        "outputId": "ced91568-0a7f-4e1d-bf5f-aae3600778ca"
      },
      "execution_count": 9,
      "outputs": [
        {
          "output_type": "stream",
          "name": "stdout",
          "text": [
            "=== 5 Example Tweets ===\n",
            "         target                                               text\n",
            "11456  positive  @RisaRM I really wish u well at re IMATS. Hope...\n",
            "16528  negative  http://twitpic.com/7ls5h - Can't update @tweet...\n",
            "3253   negative  @DanielFielding Ye I heard summet about that.....\n",
            "18614  positive  @kingsmomma oh shucks!!! date and time! i'm do...\n",
            "1544   negative                            @keishajay your invite \n"
          ]
        }
      ]
    },
    {
      "cell_type": "markdown",
      "source": [
        "# **2) Regex Cleaning**\n",
        "\n",
        "> Remove URLs, mentions (@user), hashtags, emojis (or replace with tokens), and extra whitespace.\n",
        "\n"
      ],
      "metadata": {
        "id": "MqWkLNRYuQMd"
      }
    },
    {
      "cell_type": "code",
      "source": [
        "def regex_clean(text):\n",
        "    text = re.sub(r\"http\\S+|www\\S+\", \"\", text)\n",
        "    text = re.sub(r\"@\\w+\", \"\", text)\n",
        "    text = re.sub(r\"#\", \"\", text)\n",
        "\n",
        "    emoji_pattern = re.compile(\n",
        "        \"[\"u\"\\U0001F600-\\U0001F64F\"  # emoticons\n",
        "        u\"\\U0001F300-\\U0001F5FF\"     # symbols & pictographs\n",
        "        u\"\\U0001F680-\\U0001F6FF\"     # transport & map symbols\n",
        "        u\"\\U0001F1E0-\\U0001F1FF\"     # flags\n",
        "        \"]+\", flags=re.UNICODE)\n",
        "    text = emoji_pattern.sub(r\"\", text)\n",
        "\n",
        "    text = re.sub(r\"\\s+\", \" \", text).strip()\n",
        "\n",
        "    return text"
      ],
      "metadata": {
        "id": "I6wD5eAlrqf5"
      },
      "execution_count": 10,
      "outputs": []
    },
    {
      "cell_type": "code",
      "source": [
        "sample_tweets = df[\"text\"].sample(5).tolist()\n",
        "\n",
        "for t in sample_tweets:\n",
        "    print(\"Before:\", t)\n",
        "    print(\"After: \", regex_clean(t))\n",
        "    print(\"-\" * 60)"
      ],
      "metadata": {
        "colab": {
          "base_uri": "https://localhost:8080/"
        },
        "id": "rDwqwcnorqi-",
        "outputId": "003ba82f-ae1c-461f-fb0e-381b02d28725"
      },
      "execution_count": 11,
      "outputs": [
        {
          "output_type": "stream",
          "name": "stdout",
          "text": [
            "Before: Shoutout to @Caramel_tinny she like my older sista gotta love her thx for the help earlier \n",
            "After:  Shoutout to she like my older sista gotta love her thx for the help earlier\n",
            "------------------------------------------------------------\n",
            "Before: Need bed! But no bed at home \n",
            "After:  Need bed! But no bed at home\n",
            "------------------------------------------------------------\n",
            "Before: head achee. advil is so not helping right now \n",
            "After:  head achee. advil is so not helping right now\n",
            "------------------------------------------------------------\n",
            "Before: I don't like matt dose! He's meann and makes me sad \n",
            "After:  I don't like matt dose! He's meann and makes me sad\n",
            "------------------------------------------------------------\n",
            "Before: @EP31 @chollis Oh man, I won't be in Montreal.  #BlameitonMAF\n",
            "After:  Oh man, I won't be in Montreal. BlameitonMAF\n",
            "------------------------------------------------------------\n"
          ]
        }
      ]
    },
    {
      "cell_type": "markdown",
      "source": [
        "# **3) Case Folding & Tokenization**\n",
        "\n",
        ">* Convert all text to lowercase.\n",
        ">* Tokenize tweets using NLTK\n",
        "\n"
      ],
      "metadata": {
        "id": "2GnnemFDuinm"
      }
    },
    {
      "cell_type": "code",
      "source": [
        "df[\"clean_text\"] = df[\"text\"].apply(regex_clean)"
      ],
      "metadata": {
        "id": "MGlAQatJrqmY"
      },
      "execution_count": 12,
      "outputs": []
    },
    {
      "cell_type": "code",
      "source": [
        "df[\"clean_text\"] = df[\"clean_text\"].str.lower()"
      ],
      "metadata": {
        "id": "wabziWl0viJ7"
      },
      "execution_count": 13,
      "outputs": []
    },
    {
      "cell_type": "code",
      "source": [
        "df[\"tokens\"] = df[\"clean_text\"].apply(word_tokenize)"
      ],
      "metadata": {
        "id": "vU8K-7DFviaj"
      },
      "execution_count": 14,
      "outputs": []
    },
    {
      "cell_type": "code",
      "source": [
        "df.head()"
      ],
      "metadata": {
        "colab": {
          "base_uri": "https://localhost:8080/",
          "height": 293
        },
        "id": "3Oni0Nwjv8NZ",
        "outputId": "34e1579a-9c47-418a-bde6-2ed567f1dc01"
      },
      "execution_count": 15,
      "outputs": [
        {
          "output_type": "execute_result",
          "data": {
            "text/plain": [
              "     target          id                          date      flag  \\\n",
              "0  negative  2200003196  Tue Jun 16 18:18:12 PDT 2009  NO_QUERY   \n",
              "1  negative  1467998485  Mon Apr 06 23:11:14 PDT 2009  NO_QUERY   \n",
              "2  negative  2300048954  Tue Jun 23 13:40:11 PDT 2009  NO_QUERY   \n",
              "3  negative  1993474027  Mon Jun 01 10:26:07 PDT 2009  NO_QUERY   \n",
              "4  negative  2256550904  Sat Jun 20 12:56:51 PDT 2009  NO_QUERY   \n",
              "\n",
              "              user                                               text  length  \\\n",
              "0  LaLaLindsey0609             @chrishasboobs AHHH I HOPE YOUR OK!!!       38   \n",
              "1      sexygrneyes  @misstoriblack cool , i have no tweet apps  fo...      57   \n",
              "2       sammydearr  @TiannaChaos i know  just family drama. its la...     137   \n",
              "3      Lamb_Leanne  School email won't open  and I have geography ...      91   \n",
              "4      yogicerdito                             upper airways problem       22   \n",
              "\n",
              "                                          clean_text  \\\n",
              "0                             ahhh i hope your ok!!!   \n",
              "1          cool , i have no tweet apps for my razr 2   \n",
              "2  i know just family drama. its lame.hey next ti...   \n",
              "3  school email won't open and i have geography s...   \n",
              "4                              upper airways problem   \n",
              "\n",
              "                                              tokens  \n",
              "0                 [ahhh, i, hope, your, ok, !, !, !]  \n",
              "1  [cool, ,, i, have, no, tweet, apps, for, my, r...  \n",
              "2  [i, know, just, family, drama, ., its, lame.he...  \n",
              "3  [school, email, wo, n't, open, and, i, have, g...  \n",
              "4                          [upper, airways, problem]  "
            ],
            "text/html": [
              "\n",
              "  <div id=\"df-55b9cfa8-9280-4444-bd44-d53880692cc8\" class=\"colab-df-container\">\n",
              "    <div>\n",
              "<style scoped>\n",
              "    .dataframe tbody tr th:only-of-type {\n",
              "        vertical-align: middle;\n",
              "    }\n",
              "\n",
              "    .dataframe tbody tr th {\n",
              "        vertical-align: top;\n",
              "    }\n",
              "\n",
              "    .dataframe thead th {\n",
              "        text-align: right;\n",
              "    }\n",
              "</style>\n",
              "<table border=\"1\" class=\"dataframe\">\n",
              "  <thead>\n",
              "    <tr style=\"text-align: right;\">\n",
              "      <th></th>\n",
              "      <th>target</th>\n",
              "      <th>id</th>\n",
              "      <th>date</th>\n",
              "      <th>flag</th>\n",
              "      <th>user</th>\n",
              "      <th>text</th>\n",
              "      <th>length</th>\n",
              "      <th>clean_text</th>\n",
              "      <th>tokens</th>\n",
              "    </tr>\n",
              "  </thead>\n",
              "  <tbody>\n",
              "    <tr>\n",
              "      <th>0</th>\n",
              "      <td>negative</td>\n",
              "      <td>2200003196</td>\n",
              "      <td>Tue Jun 16 18:18:12 PDT 2009</td>\n",
              "      <td>NO_QUERY</td>\n",
              "      <td>LaLaLindsey0609</td>\n",
              "      <td>@chrishasboobs AHHH I HOPE YOUR OK!!!</td>\n",
              "      <td>38</td>\n",
              "      <td>ahhh i hope your ok!!!</td>\n",
              "      <td>[ahhh, i, hope, your, ok, !, !, !]</td>\n",
              "    </tr>\n",
              "    <tr>\n",
              "      <th>1</th>\n",
              "      <td>negative</td>\n",
              "      <td>1467998485</td>\n",
              "      <td>Mon Apr 06 23:11:14 PDT 2009</td>\n",
              "      <td>NO_QUERY</td>\n",
              "      <td>sexygrneyes</td>\n",
              "      <td>@misstoriblack cool , i have no tweet apps  fo...</td>\n",
              "      <td>57</td>\n",
              "      <td>cool , i have no tweet apps for my razr 2</td>\n",
              "      <td>[cool, ,, i, have, no, tweet, apps, for, my, r...</td>\n",
              "    </tr>\n",
              "    <tr>\n",
              "      <th>2</th>\n",
              "      <td>negative</td>\n",
              "      <td>2300048954</td>\n",
              "      <td>Tue Jun 23 13:40:11 PDT 2009</td>\n",
              "      <td>NO_QUERY</td>\n",
              "      <td>sammydearr</td>\n",
              "      <td>@TiannaChaos i know  just family drama. its la...</td>\n",
              "      <td>137</td>\n",
              "      <td>i know just family drama. its lame.hey next ti...</td>\n",
              "      <td>[i, know, just, family, drama, ., its, lame.he...</td>\n",
              "    </tr>\n",
              "    <tr>\n",
              "      <th>3</th>\n",
              "      <td>negative</td>\n",
              "      <td>1993474027</td>\n",
              "      <td>Mon Jun 01 10:26:07 PDT 2009</td>\n",
              "      <td>NO_QUERY</td>\n",
              "      <td>Lamb_Leanne</td>\n",
              "      <td>School email won't open  and I have geography ...</td>\n",
              "      <td>91</td>\n",
              "      <td>school email won't open and i have geography s...</td>\n",
              "      <td>[school, email, wo, n't, open, and, i, have, g...</td>\n",
              "    </tr>\n",
              "    <tr>\n",
              "      <th>4</th>\n",
              "      <td>negative</td>\n",
              "      <td>2256550904</td>\n",
              "      <td>Sat Jun 20 12:56:51 PDT 2009</td>\n",
              "      <td>NO_QUERY</td>\n",
              "      <td>yogicerdito</td>\n",
              "      <td>upper airways problem</td>\n",
              "      <td>22</td>\n",
              "      <td>upper airways problem</td>\n",
              "      <td>[upper, airways, problem]</td>\n",
              "    </tr>\n",
              "  </tbody>\n",
              "</table>\n",
              "</div>\n",
              "    <div class=\"colab-df-buttons\">\n",
              "\n",
              "  <div class=\"colab-df-container\">\n",
              "    <button class=\"colab-df-convert\" onclick=\"convertToInteractive('df-55b9cfa8-9280-4444-bd44-d53880692cc8')\"\n",
              "            title=\"Convert this dataframe to an interactive table.\"\n",
              "            style=\"display:none;\">\n",
              "\n",
              "  <svg xmlns=\"http://www.w3.org/2000/svg\" height=\"24px\" viewBox=\"0 -960 960 960\">\n",
              "    <path d=\"M120-120v-720h720v720H120Zm60-500h600v-160H180v160Zm220 220h160v-160H400v160Zm0 220h160v-160H400v160ZM180-400h160v-160H180v160Zm440 0h160v-160H620v160ZM180-180h160v-160H180v160Zm440 0h160v-160H620v160Z\"/>\n",
              "  </svg>\n",
              "    </button>\n",
              "\n",
              "  <style>\n",
              "    .colab-df-container {\n",
              "      display:flex;\n",
              "      gap: 12px;\n",
              "    }\n",
              "\n",
              "    .colab-df-convert {\n",
              "      background-color: #E8F0FE;\n",
              "      border: none;\n",
              "      border-radius: 50%;\n",
              "      cursor: pointer;\n",
              "      display: none;\n",
              "      fill: #1967D2;\n",
              "      height: 32px;\n",
              "      padding: 0 0 0 0;\n",
              "      width: 32px;\n",
              "    }\n",
              "\n",
              "    .colab-df-convert:hover {\n",
              "      background-color: #E2EBFA;\n",
              "      box-shadow: 0px 1px 2px rgba(60, 64, 67, 0.3), 0px 1px 3px 1px rgba(60, 64, 67, 0.15);\n",
              "      fill: #174EA6;\n",
              "    }\n",
              "\n",
              "    .colab-df-buttons div {\n",
              "      margin-bottom: 4px;\n",
              "    }\n",
              "\n",
              "    [theme=dark] .colab-df-convert {\n",
              "      background-color: #3B4455;\n",
              "      fill: #D2E3FC;\n",
              "    }\n",
              "\n",
              "    [theme=dark] .colab-df-convert:hover {\n",
              "      background-color: #434B5C;\n",
              "      box-shadow: 0px 1px 3px 1px rgba(0, 0, 0, 0.15);\n",
              "      filter: drop-shadow(0px 1px 2px rgba(0, 0, 0, 0.3));\n",
              "      fill: #FFFFFF;\n",
              "    }\n",
              "  </style>\n",
              "\n",
              "    <script>\n",
              "      const buttonEl =\n",
              "        document.querySelector('#df-55b9cfa8-9280-4444-bd44-d53880692cc8 button.colab-df-convert');\n",
              "      buttonEl.style.display =\n",
              "        google.colab.kernel.accessAllowed ? 'block' : 'none';\n",
              "\n",
              "      async function convertToInteractive(key) {\n",
              "        const element = document.querySelector('#df-55b9cfa8-9280-4444-bd44-d53880692cc8');\n",
              "        const dataTable =\n",
              "          await google.colab.kernel.invokeFunction('convertToInteractive',\n",
              "                                                    [key], {});\n",
              "        if (!dataTable) return;\n",
              "\n",
              "        const docLinkHtml = 'Like what you see? Visit the ' +\n",
              "          '<a target=\"_blank\" href=https://colab.research.google.com/notebooks/data_table.ipynb>data table notebook</a>'\n",
              "          + ' to learn more about interactive tables.';\n",
              "        element.innerHTML = '';\n",
              "        dataTable['output_type'] = 'display_data';\n",
              "        await google.colab.output.renderOutput(dataTable, element);\n",
              "        const docLink = document.createElement('div');\n",
              "        docLink.innerHTML = docLinkHtml;\n",
              "        element.appendChild(docLink);\n",
              "      }\n",
              "    </script>\n",
              "  </div>\n",
              "\n",
              "\n",
              "    <div id=\"df-d2929278-e092-4484-bece-5bc18987a327\">\n",
              "      <button class=\"colab-df-quickchart\" onclick=\"quickchart('df-d2929278-e092-4484-bece-5bc18987a327')\"\n",
              "                title=\"Suggest charts\"\n",
              "                style=\"display:none;\">\n",
              "\n",
              "<svg xmlns=\"http://www.w3.org/2000/svg\" height=\"24px\"viewBox=\"0 0 24 24\"\n",
              "     width=\"24px\">\n",
              "    <g>\n",
              "        <path d=\"M19 3H5c-1.1 0-2 .9-2 2v14c0 1.1.9 2 2 2h14c1.1 0 2-.9 2-2V5c0-1.1-.9-2-2-2zM9 17H7v-7h2v7zm4 0h-2V7h2v10zm4 0h-2v-4h2v4z\"/>\n",
              "    </g>\n",
              "</svg>\n",
              "      </button>\n",
              "\n",
              "<style>\n",
              "  .colab-df-quickchart {\n",
              "      --bg-color: #E8F0FE;\n",
              "      --fill-color: #1967D2;\n",
              "      --hover-bg-color: #E2EBFA;\n",
              "      --hover-fill-color: #174EA6;\n",
              "      --disabled-fill-color: #AAA;\n",
              "      --disabled-bg-color: #DDD;\n",
              "  }\n",
              "\n",
              "  [theme=dark] .colab-df-quickchart {\n",
              "      --bg-color: #3B4455;\n",
              "      --fill-color: #D2E3FC;\n",
              "      --hover-bg-color: #434B5C;\n",
              "      --hover-fill-color: #FFFFFF;\n",
              "      --disabled-bg-color: #3B4455;\n",
              "      --disabled-fill-color: #666;\n",
              "  }\n",
              "\n",
              "  .colab-df-quickchart {\n",
              "    background-color: var(--bg-color);\n",
              "    border: none;\n",
              "    border-radius: 50%;\n",
              "    cursor: pointer;\n",
              "    display: none;\n",
              "    fill: var(--fill-color);\n",
              "    height: 32px;\n",
              "    padding: 0;\n",
              "    width: 32px;\n",
              "  }\n",
              "\n",
              "  .colab-df-quickchart:hover {\n",
              "    background-color: var(--hover-bg-color);\n",
              "    box-shadow: 0 1px 2px rgba(60, 64, 67, 0.3), 0 1px 3px 1px rgba(60, 64, 67, 0.15);\n",
              "    fill: var(--button-hover-fill-color);\n",
              "  }\n",
              "\n",
              "  .colab-df-quickchart-complete:disabled,\n",
              "  .colab-df-quickchart-complete:disabled:hover {\n",
              "    background-color: var(--disabled-bg-color);\n",
              "    fill: var(--disabled-fill-color);\n",
              "    box-shadow: none;\n",
              "  }\n",
              "\n",
              "  .colab-df-spinner {\n",
              "    border: 2px solid var(--fill-color);\n",
              "    border-color: transparent;\n",
              "    border-bottom-color: var(--fill-color);\n",
              "    animation:\n",
              "      spin 1s steps(1) infinite;\n",
              "  }\n",
              "\n",
              "  @keyframes spin {\n",
              "    0% {\n",
              "      border-color: transparent;\n",
              "      border-bottom-color: var(--fill-color);\n",
              "      border-left-color: var(--fill-color);\n",
              "    }\n",
              "    20% {\n",
              "      border-color: transparent;\n",
              "      border-left-color: var(--fill-color);\n",
              "      border-top-color: var(--fill-color);\n",
              "    }\n",
              "    30% {\n",
              "      border-color: transparent;\n",
              "      border-left-color: var(--fill-color);\n",
              "      border-top-color: var(--fill-color);\n",
              "      border-right-color: var(--fill-color);\n",
              "    }\n",
              "    40% {\n",
              "      border-color: transparent;\n",
              "      border-right-color: var(--fill-color);\n",
              "      border-top-color: var(--fill-color);\n",
              "    }\n",
              "    60% {\n",
              "      border-color: transparent;\n",
              "      border-right-color: var(--fill-color);\n",
              "    }\n",
              "    80% {\n",
              "      border-color: transparent;\n",
              "      border-right-color: var(--fill-color);\n",
              "      border-bottom-color: var(--fill-color);\n",
              "    }\n",
              "    90% {\n",
              "      border-color: transparent;\n",
              "      border-bottom-color: var(--fill-color);\n",
              "    }\n",
              "  }\n",
              "</style>\n",
              "\n",
              "      <script>\n",
              "        async function quickchart(key) {\n",
              "          const quickchartButtonEl =\n",
              "            document.querySelector('#' + key + ' button');\n",
              "          quickchartButtonEl.disabled = true;  // To prevent multiple clicks.\n",
              "          quickchartButtonEl.classList.add('colab-df-spinner');\n",
              "          try {\n",
              "            const charts = await google.colab.kernel.invokeFunction(\n",
              "                'suggestCharts', [key], {});\n",
              "          } catch (error) {\n",
              "            console.error('Error during call to suggestCharts:', error);\n",
              "          }\n",
              "          quickchartButtonEl.classList.remove('colab-df-spinner');\n",
              "          quickchartButtonEl.classList.add('colab-df-quickchart-complete');\n",
              "        }\n",
              "        (() => {\n",
              "          let quickchartButtonEl =\n",
              "            document.querySelector('#df-d2929278-e092-4484-bece-5bc18987a327 button');\n",
              "          quickchartButtonEl.style.display =\n",
              "            google.colab.kernel.accessAllowed ? 'block' : 'none';\n",
              "        })();\n",
              "      </script>\n",
              "    </div>\n",
              "\n",
              "    </div>\n",
              "  </div>\n"
            ],
            "application/vnd.google.colaboratory.intrinsic+json": {
              "type": "dataframe",
              "variable_name": "df",
              "summary": "{\n  \"name\": \"df\",\n  \"rows\": 20000,\n  \"fields\": [\n    {\n      \"column\": \"target\",\n      \"properties\": {\n        \"dtype\": \"category\",\n        \"num_unique_values\": 2,\n        \"samples\": [\n          \"positive\",\n          \"negative\"\n        ],\n        \"semantic_type\": \"\",\n        \"description\": \"\"\n      }\n    },\n    {\n      \"column\": \"id\",\n      \"properties\": {\n        \"dtype\": \"number\",\n        \"std\": 193886700,\n        \"min\": 1467815753,\n        \"max\": 2329178558,\n        \"num_unique_values\": 19999,\n        \"samples\": [\n          2218868086,\n          1999759768\n        ],\n        \"semantic_type\": \"\",\n        \"description\": \"\"\n      }\n    },\n    {\n      \"column\": \"date\",\n      \"properties\": {\n        \"dtype\": \"object\",\n        \"num_unique_values\": 19709,\n        \"samples\": [\n          \"Sun May 31 10:41:37 PDT 2009\",\n          \"Sun Jun 07 18:51:40 PDT 2009\"\n        ],\n        \"semantic_type\": \"\",\n        \"description\": \"\"\n      }\n    },\n    {\n      \"column\": \"flag\",\n      \"properties\": {\n        \"dtype\": \"category\",\n        \"num_unique_values\": 1,\n        \"samples\": [\n          \"NO_QUERY\"\n        ],\n        \"semantic_type\": \"\",\n        \"description\": \"\"\n      }\n    },\n    {\n      \"column\": \"user\",\n      \"properties\": {\n        \"dtype\": \"string\",\n        \"num_unique_values\": 18965,\n        \"samples\": [\n          \"LadyMissSonic\"\n        ],\n        \"semantic_type\": \"\",\n        \"description\": \"\"\n      }\n    },\n    {\n      \"column\": \"text\",\n      \"properties\": {\n        \"dtype\": \"string\",\n        \"num_unique_values\": 19982,\n        \"samples\": [\n          \"@gooberbaby13 aww, it's great!  we all should hang out soon.  [;  @bwanalilolath @acely @allisonjones49 thank you!  \"\n        ],\n        \"semantic_type\": \"\",\n        \"description\": \"\"\n      }\n    },\n    {\n      \"column\": \"length\",\n      \"properties\": {\n        \"dtype\": \"number\",\n        \"std\": 36,\n        \"min\": 8,\n        \"max\": 222,\n        \"num_unique_values\": 154,\n        \"samples\": [\n          112\n        ],\n        \"semantic_type\": \"\",\n        \"description\": \"\"\n      }\n    },\n    {\n      \"column\": \"clean_text\",\n      \"properties\": {\n        \"dtype\": \"string\",\n        \"num_unique_values\": 19811,\n        \"samples\": [\n          \"i'm waiting for you to come home to me\"\n        ],\n        \"semantic_type\": \"\",\n        \"description\": \"\"\n      }\n    },\n    {\n      \"column\": \"tokens\",\n      \"properties\": {\n        \"dtype\": \"object\",\n        \"semantic_type\": \"\",\n        \"description\": \"\"\n      }\n    }\n  ]\n}"
            }
          },
          "metadata": {},
          "execution_count": 15
        }
      ]
    },
    {
      "cell_type": "code",
      "source": [
        "# Vocabulary size before cleaning (raw lowercase text)\n",
        "all_tokens_raw = [w for text in df[\"text\"] for w in word_tokenize(text.lower())]\n",
        "vocab_before = set(all_tokens_raw)\n",
        "\n",
        "# Vocabulary size after regex cleaning + lowercase\n",
        "all_tokens_clean = [w for tokens in df[\"tokens\"] for w in tokens]\n",
        "vocab_after = set(all_tokens_clean)\n",
        "\n",
        "print(\"Vocabulary size before cleaning:\", len(vocab_before))\n",
        "print(\"Vocabulary size after cleaning: \", len(vocab_after))"
      ],
      "metadata": {
        "colab": {
          "base_uri": "https://localhost:8080/"
        },
        "id": "qBJ1aMV0vimP",
        "outputId": "c9bce0e0-85c8-4cfb-fac2-bfd53f78057e"
      },
      "execution_count": 16,
      "outputs": [
        {
          "output_type": "stream",
          "name": "stdout",
          "text": [
            "Vocabulary size before cleaning: 32105\n",
            "Vocabulary size after cleaning:  22383\n"
          ]
        }
      ]
    },
    {
      "cell_type": "code",
      "source": [
        "print(\"\\nSample tokens (first 5 tweets):\")\n",
        "for i in range(5):\n",
        "    print(f\"Original: {df['text'][i]}\")\n",
        "    print(f\"Cleaned:  {df['clean_text'][i]}\")\n",
        "    print(f\"Tokens:   {df['tokens'][i]}\")\n",
        "    print(\"-\" * 50)"
      ],
      "metadata": {
        "colab": {
          "base_uri": "https://localhost:8080/"
        },
        "id": "UORhKiDwvxHi",
        "outputId": "0826318a-3f12-404a-d255-95c5495fc6b7"
      },
      "execution_count": 17,
      "outputs": [
        {
          "output_type": "stream",
          "name": "stdout",
          "text": [
            "\n",
            "Sample tokens (first 5 tweets):\n",
            "Original: @chrishasboobs AHHH I HOPE YOUR OK!!! \n",
            "Cleaned:  ahhh i hope your ok!!!\n",
            "Tokens:   ['ahhh', 'i', 'hope', 'your', 'ok', '!', '!', '!']\n",
            "--------------------------------------------------\n",
            "Original: @misstoriblack cool , i have no tweet apps  for my razr 2\n",
            "Cleaned:  cool , i have no tweet apps for my razr 2\n",
            "Tokens:   ['cool', ',', 'i', 'have', 'no', 'tweet', 'apps', 'for', 'my', 'razr', '2']\n",
            "--------------------------------------------------\n",
            "Original: @TiannaChaos i know  just family drama. its lame.hey next time u hang out with kim n u guys like have a sleepover or whatever, ill call u\n",
            "Cleaned:  i know just family drama. its lame.hey next time u hang out with kim n u guys like have a sleepover or whatever, ill call u\n",
            "Tokens:   ['i', 'know', 'just', 'family', 'drama', '.', 'its', 'lame.hey', 'next', 'time', 'u', 'hang', 'out', 'with', 'kim', 'n', 'u', 'guys', 'like', 'have', 'a', 'sleepover', 'or', 'whatever', ',', 'ill', 'call', 'u']\n",
            "--------------------------------------------------\n",
            "Original: School email won't open  and I have geography stuff on there to revise! *Stupid School* :'(\n",
            "Cleaned:  school email won't open and i have geography stuff on there to revise! *stupid school* :'(\n",
            "Tokens:   ['school', 'email', 'wo', \"n't\", 'open', 'and', 'i', 'have', 'geography', 'stuff', 'on', 'there', 'to', 'revise', '!', '*', 'stupid', 'school', '*', ':', \"'\", '(']\n",
            "--------------------------------------------------\n",
            "Original: upper airways problem \n",
            "Cleaned:  upper airways problem\n",
            "Tokens:   ['upper', 'airways', 'problem']\n",
            "--------------------------------------------------\n"
          ]
        }
      ]
    },
    {
      "cell_type": "markdown",
      "source": [
        "# **4) Stopwords, Punctuation, and Numbers**"
      ],
      "metadata": {
        "id": "xYdQgVz5wEIN"
      }
    },
    {
      "cell_type": "code",
      "source": [
        "stop_words = set(stopwords.words('english'))\n",
        "\n",
        "def clean_tokens(tokens):\n",
        "    cleaned = []\n",
        "    for w in tokens:\n",
        "\n",
        "        if w.isdigit():\n",
        "            cleaned.append(\"<NUM>\")\n",
        "\n",
        "        elif w not in string.punctuation and w not in stop_words and len(w) > 1:\n",
        "            cleaned.append(w)\n",
        "    return cleaned\n"
      ],
      "metadata": {
        "id": "Jnc_ryrvwmT1"
      },
      "execution_count": 18,
      "outputs": []
    },
    {
      "cell_type": "code",
      "source": [
        "df[\"tokens_clean\"] = df[\"tokens\"].apply(clean_tokens)"
      ],
      "metadata": {
        "id": "vyetKbXExfFL"
      },
      "execution_count": 19,
      "outputs": []
    },
    {
      "cell_type": "code",
      "source": [
        "df.head()"
      ],
      "metadata": {
        "colab": {
          "base_uri": "https://localhost:8080/",
          "height": 379
        },
        "id": "QYqcygGJyNN9",
        "outputId": "41213e7a-7e66-4633-90e0-dc26f1c2f077"
      },
      "execution_count": 20,
      "outputs": [
        {
          "output_type": "execute_result",
          "data": {
            "text/plain": [
              "     target          id                          date      flag  \\\n",
              "0  negative  2200003196  Tue Jun 16 18:18:12 PDT 2009  NO_QUERY   \n",
              "1  negative  1467998485  Mon Apr 06 23:11:14 PDT 2009  NO_QUERY   \n",
              "2  negative  2300048954  Tue Jun 23 13:40:11 PDT 2009  NO_QUERY   \n",
              "3  negative  1993474027  Mon Jun 01 10:26:07 PDT 2009  NO_QUERY   \n",
              "4  negative  2256550904  Sat Jun 20 12:56:51 PDT 2009  NO_QUERY   \n",
              "\n",
              "              user                                               text  length  \\\n",
              "0  LaLaLindsey0609             @chrishasboobs AHHH I HOPE YOUR OK!!!       38   \n",
              "1      sexygrneyes  @misstoriblack cool , i have no tweet apps  fo...      57   \n",
              "2       sammydearr  @TiannaChaos i know  just family drama. its la...     137   \n",
              "3      Lamb_Leanne  School email won't open  and I have geography ...      91   \n",
              "4      yogicerdito                             upper airways problem       22   \n",
              "\n",
              "                                          clean_text  \\\n",
              "0                             ahhh i hope your ok!!!   \n",
              "1          cool , i have no tweet apps for my razr 2   \n",
              "2  i know just family drama. its lame.hey next ti...   \n",
              "3  school email won't open and i have geography s...   \n",
              "4                              upper airways problem   \n",
              "\n",
              "                                              tokens  \\\n",
              "0                 [ahhh, i, hope, your, ok, !, !, !]   \n",
              "1  [cool, ,, i, have, no, tweet, apps, for, my, r...   \n",
              "2  [i, know, just, family, drama, ., its, lame.he...   \n",
              "3  [school, email, wo, n't, open, and, i, have, g...   \n",
              "4                          [upper, airways, problem]   \n",
              "\n",
              "                                        tokens_clean  \n",
              "0                                   [ahhh, hope, ok]  \n",
              "1                   [cool, tweet, apps, razr, <NUM>]  \n",
              "2  [know, family, drama, lame.hey, next, time, ha...  \n",
              "3  [school, email, wo, n't, open, geography, stuf...  \n",
              "4                          [upper, airways, problem]  "
            ],
            "text/html": [
              "\n",
              "  <div id=\"df-da49ee03-e0ff-4b28-b46f-5d0f56a973b0\" class=\"colab-df-container\">\n",
              "    <div>\n",
              "<style scoped>\n",
              "    .dataframe tbody tr th:only-of-type {\n",
              "        vertical-align: middle;\n",
              "    }\n",
              "\n",
              "    .dataframe tbody tr th {\n",
              "        vertical-align: top;\n",
              "    }\n",
              "\n",
              "    .dataframe thead th {\n",
              "        text-align: right;\n",
              "    }\n",
              "</style>\n",
              "<table border=\"1\" class=\"dataframe\">\n",
              "  <thead>\n",
              "    <tr style=\"text-align: right;\">\n",
              "      <th></th>\n",
              "      <th>target</th>\n",
              "      <th>id</th>\n",
              "      <th>date</th>\n",
              "      <th>flag</th>\n",
              "      <th>user</th>\n",
              "      <th>text</th>\n",
              "      <th>length</th>\n",
              "      <th>clean_text</th>\n",
              "      <th>tokens</th>\n",
              "      <th>tokens_clean</th>\n",
              "    </tr>\n",
              "  </thead>\n",
              "  <tbody>\n",
              "    <tr>\n",
              "      <th>0</th>\n",
              "      <td>negative</td>\n",
              "      <td>2200003196</td>\n",
              "      <td>Tue Jun 16 18:18:12 PDT 2009</td>\n",
              "      <td>NO_QUERY</td>\n",
              "      <td>LaLaLindsey0609</td>\n",
              "      <td>@chrishasboobs AHHH I HOPE YOUR OK!!!</td>\n",
              "      <td>38</td>\n",
              "      <td>ahhh i hope your ok!!!</td>\n",
              "      <td>[ahhh, i, hope, your, ok, !, !, !]</td>\n",
              "      <td>[ahhh, hope, ok]</td>\n",
              "    </tr>\n",
              "    <tr>\n",
              "      <th>1</th>\n",
              "      <td>negative</td>\n",
              "      <td>1467998485</td>\n",
              "      <td>Mon Apr 06 23:11:14 PDT 2009</td>\n",
              "      <td>NO_QUERY</td>\n",
              "      <td>sexygrneyes</td>\n",
              "      <td>@misstoriblack cool , i have no tweet apps  fo...</td>\n",
              "      <td>57</td>\n",
              "      <td>cool , i have no tweet apps for my razr 2</td>\n",
              "      <td>[cool, ,, i, have, no, tweet, apps, for, my, r...</td>\n",
              "      <td>[cool, tweet, apps, razr, &lt;NUM&gt;]</td>\n",
              "    </tr>\n",
              "    <tr>\n",
              "      <th>2</th>\n",
              "      <td>negative</td>\n",
              "      <td>2300048954</td>\n",
              "      <td>Tue Jun 23 13:40:11 PDT 2009</td>\n",
              "      <td>NO_QUERY</td>\n",
              "      <td>sammydearr</td>\n",
              "      <td>@TiannaChaos i know  just family drama. its la...</td>\n",
              "      <td>137</td>\n",
              "      <td>i know just family drama. its lame.hey next ti...</td>\n",
              "      <td>[i, know, just, family, drama, ., its, lame.he...</td>\n",
              "      <td>[know, family, drama, lame.hey, next, time, ha...</td>\n",
              "    </tr>\n",
              "    <tr>\n",
              "      <th>3</th>\n",
              "      <td>negative</td>\n",
              "      <td>1993474027</td>\n",
              "      <td>Mon Jun 01 10:26:07 PDT 2009</td>\n",
              "      <td>NO_QUERY</td>\n",
              "      <td>Lamb_Leanne</td>\n",
              "      <td>School email won't open  and I have geography ...</td>\n",
              "      <td>91</td>\n",
              "      <td>school email won't open and i have geography s...</td>\n",
              "      <td>[school, email, wo, n't, open, and, i, have, g...</td>\n",
              "      <td>[school, email, wo, n't, open, geography, stuf...</td>\n",
              "    </tr>\n",
              "    <tr>\n",
              "      <th>4</th>\n",
              "      <td>negative</td>\n",
              "      <td>2256550904</td>\n",
              "      <td>Sat Jun 20 12:56:51 PDT 2009</td>\n",
              "      <td>NO_QUERY</td>\n",
              "      <td>yogicerdito</td>\n",
              "      <td>upper airways problem</td>\n",
              "      <td>22</td>\n",
              "      <td>upper airways problem</td>\n",
              "      <td>[upper, airways, problem]</td>\n",
              "      <td>[upper, airways, problem]</td>\n",
              "    </tr>\n",
              "  </tbody>\n",
              "</table>\n",
              "</div>\n",
              "    <div class=\"colab-df-buttons\">\n",
              "\n",
              "  <div class=\"colab-df-container\">\n",
              "    <button class=\"colab-df-convert\" onclick=\"convertToInteractive('df-da49ee03-e0ff-4b28-b46f-5d0f56a973b0')\"\n",
              "            title=\"Convert this dataframe to an interactive table.\"\n",
              "            style=\"display:none;\">\n",
              "\n",
              "  <svg xmlns=\"http://www.w3.org/2000/svg\" height=\"24px\" viewBox=\"0 -960 960 960\">\n",
              "    <path d=\"M120-120v-720h720v720H120Zm60-500h600v-160H180v160Zm220 220h160v-160H400v160Zm0 220h160v-160H400v160ZM180-400h160v-160H180v160Zm440 0h160v-160H620v160ZM180-180h160v-160H180v160Zm440 0h160v-160H620v160Z\"/>\n",
              "  </svg>\n",
              "    </button>\n",
              "\n",
              "  <style>\n",
              "    .colab-df-container {\n",
              "      display:flex;\n",
              "      gap: 12px;\n",
              "    }\n",
              "\n",
              "    .colab-df-convert {\n",
              "      background-color: #E8F0FE;\n",
              "      border: none;\n",
              "      border-radius: 50%;\n",
              "      cursor: pointer;\n",
              "      display: none;\n",
              "      fill: #1967D2;\n",
              "      height: 32px;\n",
              "      padding: 0 0 0 0;\n",
              "      width: 32px;\n",
              "    }\n",
              "\n",
              "    .colab-df-convert:hover {\n",
              "      background-color: #E2EBFA;\n",
              "      box-shadow: 0px 1px 2px rgba(60, 64, 67, 0.3), 0px 1px 3px 1px rgba(60, 64, 67, 0.15);\n",
              "      fill: #174EA6;\n",
              "    }\n",
              "\n",
              "    .colab-df-buttons div {\n",
              "      margin-bottom: 4px;\n",
              "    }\n",
              "\n",
              "    [theme=dark] .colab-df-convert {\n",
              "      background-color: #3B4455;\n",
              "      fill: #D2E3FC;\n",
              "    }\n",
              "\n",
              "    [theme=dark] .colab-df-convert:hover {\n",
              "      background-color: #434B5C;\n",
              "      box-shadow: 0px 1px 3px 1px rgba(0, 0, 0, 0.15);\n",
              "      filter: drop-shadow(0px 1px 2px rgba(0, 0, 0, 0.3));\n",
              "      fill: #FFFFFF;\n",
              "    }\n",
              "  </style>\n",
              "\n",
              "    <script>\n",
              "      const buttonEl =\n",
              "        document.querySelector('#df-da49ee03-e0ff-4b28-b46f-5d0f56a973b0 button.colab-df-convert');\n",
              "      buttonEl.style.display =\n",
              "        google.colab.kernel.accessAllowed ? 'block' : 'none';\n",
              "\n",
              "      async function convertToInteractive(key) {\n",
              "        const element = document.querySelector('#df-da49ee03-e0ff-4b28-b46f-5d0f56a973b0');\n",
              "        const dataTable =\n",
              "          await google.colab.kernel.invokeFunction('convertToInteractive',\n",
              "                                                    [key], {});\n",
              "        if (!dataTable) return;\n",
              "\n",
              "        const docLinkHtml = 'Like what you see? Visit the ' +\n",
              "          '<a target=\"_blank\" href=https://colab.research.google.com/notebooks/data_table.ipynb>data table notebook</a>'\n",
              "          + ' to learn more about interactive tables.';\n",
              "        element.innerHTML = '';\n",
              "        dataTable['output_type'] = 'display_data';\n",
              "        await google.colab.output.renderOutput(dataTable, element);\n",
              "        const docLink = document.createElement('div');\n",
              "        docLink.innerHTML = docLinkHtml;\n",
              "        element.appendChild(docLink);\n",
              "      }\n",
              "    </script>\n",
              "  </div>\n",
              "\n",
              "\n",
              "    <div id=\"df-70eb1696-3a1c-4b13-af42-05e1881092a2\">\n",
              "      <button class=\"colab-df-quickchart\" onclick=\"quickchart('df-70eb1696-3a1c-4b13-af42-05e1881092a2')\"\n",
              "                title=\"Suggest charts\"\n",
              "                style=\"display:none;\">\n",
              "\n",
              "<svg xmlns=\"http://www.w3.org/2000/svg\" height=\"24px\"viewBox=\"0 0 24 24\"\n",
              "     width=\"24px\">\n",
              "    <g>\n",
              "        <path d=\"M19 3H5c-1.1 0-2 .9-2 2v14c0 1.1.9 2 2 2h14c1.1 0 2-.9 2-2V5c0-1.1-.9-2-2-2zM9 17H7v-7h2v7zm4 0h-2V7h2v10zm4 0h-2v-4h2v4z\"/>\n",
              "    </g>\n",
              "</svg>\n",
              "      </button>\n",
              "\n",
              "<style>\n",
              "  .colab-df-quickchart {\n",
              "      --bg-color: #E8F0FE;\n",
              "      --fill-color: #1967D2;\n",
              "      --hover-bg-color: #E2EBFA;\n",
              "      --hover-fill-color: #174EA6;\n",
              "      --disabled-fill-color: #AAA;\n",
              "      --disabled-bg-color: #DDD;\n",
              "  }\n",
              "\n",
              "  [theme=dark] .colab-df-quickchart {\n",
              "      --bg-color: #3B4455;\n",
              "      --fill-color: #D2E3FC;\n",
              "      --hover-bg-color: #434B5C;\n",
              "      --hover-fill-color: #FFFFFF;\n",
              "      --disabled-bg-color: #3B4455;\n",
              "      --disabled-fill-color: #666;\n",
              "  }\n",
              "\n",
              "  .colab-df-quickchart {\n",
              "    background-color: var(--bg-color);\n",
              "    border: none;\n",
              "    border-radius: 50%;\n",
              "    cursor: pointer;\n",
              "    display: none;\n",
              "    fill: var(--fill-color);\n",
              "    height: 32px;\n",
              "    padding: 0;\n",
              "    width: 32px;\n",
              "  }\n",
              "\n",
              "  .colab-df-quickchart:hover {\n",
              "    background-color: var(--hover-bg-color);\n",
              "    box-shadow: 0 1px 2px rgba(60, 64, 67, 0.3), 0 1px 3px 1px rgba(60, 64, 67, 0.15);\n",
              "    fill: var(--button-hover-fill-color);\n",
              "  }\n",
              "\n",
              "  .colab-df-quickchart-complete:disabled,\n",
              "  .colab-df-quickchart-complete:disabled:hover {\n",
              "    background-color: var(--disabled-bg-color);\n",
              "    fill: var(--disabled-fill-color);\n",
              "    box-shadow: none;\n",
              "  }\n",
              "\n",
              "  .colab-df-spinner {\n",
              "    border: 2px solid var(--fill-color);\n",
              "    border-color: transparent;\n",
              "    border-bottom-color: var(--fill-color);\n",
              "    animation:\n",
              "      spin 1s steps(1) infinite;\n",
              "  }\n",
              "\n",
              "  @keyframes spin {\n",
              "    0% {\n",
              "      border-color: transparent;\n",
              "      border-bottom-color: var(--fill-color);\n",
              "      border-left-color: var(--fill-color);\n",
              "    }\n",
              "    20% {\n",
              "      border-color: transparent;\n",
              "      border-left-color: var(--fill-color);\n",
              "      border-top-color: var(--fill-color);\n",
              "    }\n",
              "    30% {\n",
              "      border-color: transparent;\n",
              "      border-left-color: var(--fill-color);\n",
              "      border-top-color: var(--fill-color);\n",
              "      border-right-color: var(--fill-color);\n",
              "    }\n",
              "    40% {\n",
              "      border-color: transparent;\n",
              "      border-right-color: var(--fill-color);\n",
              "      border-top-color: var(--fill-color);\n",
              "    }\n",
              "    60% {\n",
              "      border-color: transparent;\n",
              "      border-right-color: var(--fill-color);\n",
              "    }\n",
              "    80% {\n",
              "      border-color: transparent;\n",
              "      border-right-color: var(--fill-color);\n",
              "      border-bottom-color: var(--fill-color);\n",
              "    }\n",
              "    90% {\n",
              "      border-color: transparent;\n",
              "      border-bottom-color: var(--fill-color);\n",
              "    }\n",
              "  }\n",
              "</style>\n",
              "\n",
              "      <script>\n",
              "        async function quickchart(key) {\n",
              "          const quickchartButtonEl =\n",
              "            document.querySelector('#' + key + ' button');\n",
              "          quickchartButtonEl.disabled = true;  // To prevent multiple clicks.\n",
              "          quickchartButtonEl.classList.add('colab-df-spinner');\n",
              "          try {\n",
              "            const charts = await google.colab.kernel.invokeFunction(\n",
              "                'suggestCharts', [key], {});\n",
              "          } catch (error) {\n",
              "            console.error('Error during call to suggestCharts:', error);\n",
              "          }\n",
              "          quickchartButtonEl.classList.remove('colab-df-spinner');\n",
              "          quickchartButtonEl.classList.add('colab-df-quickchart-complete');\n",
              "        }\n",
              "        (() => {\n",
              "          let quickchartButtonEl =\n",
              "            document.querySelector('#df-70eb1696-3a1c-4b13-af42-05e1881092a2 button');\n",
              "          quickchartButtonEl.style.display =\n",
              "            google.colab.kernel.accessAllowed ? 'block' : 'none';\n",
              "        })();\n",
              "      </script>\n",
              "    </div>\n",
              "\n",
              "    </div>\n",
              "  </div>\n"
            ],
            "application/vnd.google.colaboratory.intrinsic+json": {
              "type": "dataframe",
              "variable_name": "df",
              "summary": "{\n  \"name\": \"df\",\n  \"rows\": 20000,\n  \"fields\": [\n    {\n      \"column\": \"target\",\n      \"properties\": {\n        \"dtype\": \"category\",\n        \"num_unique_values\": 2,\n        \"samples\": [\n          \"positive\",\n          \"negative\"\n        ],\n        \"semantic_type\": \"\",\n        \"description\": \"\"\n      }\n    },\n    {\n      \"column\": \"id\",\n      \"properties\": {\n        \"dtype\": \"number\",\n        \"std\": 193886700,\n        \"min\": 1467815753,\n        \"max\": 2329178558,\n        \"num_unique_values\": 19999,\n        \"samples\": [\n          2218868086,\n          1999759768\n        ],\n        \"semantic_type\": \"\",\n        \"description\": \"\"\n      }\n    },\n    {\n      \"column\": \"date\",\n      \"properties\": {\n        \"dtype\": \"object\",\n        \"num_unique_values\": 19709,\n        \"samples\": [\n          \"Sun May 31 10:41:37 PDT 2009\",\n          \"Sun Jun 07 18:51:40 PDT 2009\"\n        ],\n        \"semantic_type\": \"\",\n        \"description\": \"\"\n      }\n    },\n    {\n      \"column\": \"flag\",\n      \"properties\": {\n        \"dtype\": \"category\",\n        \"num_unique_values\": 1,\n        \"samples\": [\n          \"NO_QUERY\"\n        ],\n        \"semantic_type\": \"\",\n        \"description\": \"\"\n      }\n    },\n    {\n      \"column\": \"user\",\n      \"properties\": {\n        \"dtype\": \"string\",\n        \"num_unique_values\": 18965,\n        \"samples\": [\n          \"LadyMissSonic\"\n        ],\n        \"semantic_type\": \"\",\n        \"description\": \"\"\n      }\n    },\n    {\n      \"column\": \"text\",\n      \"properties\": {\n        \"dtype\": \"string\",\n        \"num_unique_values\": 19982,\n        \"samples\": [\n          \"@gooberbaby13 aww, it's great!  we all should hang out soon.  [;  @bwanalilolath @acely @allisonjones49 thank you!  \"\n        ],\n        \"semantic_type\": \"\",\n        \"description\": \"\"\n      }\n    },\n    {\n      \"column\": \"length\",\n      \"properties\": {\n        \"dtype\": \"number\",\n        \"std\": 36,\n        \"min\": 8,\n        \"max\": 222,\n        \"num_unique_values\": 154,\n        \"samples\": [\n          112\n        ],\n        \"semantic_type\": \"\",\n        \"description\": \"\"\n      }\n    },\n    {\n      \"column\": \"clean_text\",\n      \"properties\": {\n        \"dtype\": \"string\",\n        \"num_unique_values\": 19811,\n        \"samples\": [\n          \"i'm waiting for you to come home to me\"\n        ],\n        \"semantic_type\": \"\",\n        \"description\": \"\"\n      }\n    },\n    {\n      \"column\": \"tokens\",\n      \"properties\": {\n        \"dtype\": \"object\",\n        \"semantic_type\": \"\",\n        \"description\": \"\"\n      }\n    },\n    {\n      \"column\": \"tokens_clean\",\n      \"properties\": {\n        \"dtype\": \"object\",\n        \"semantic_type\": \"\",\n        \"description\": \"\"\n      }\n    }\n  ]\n}"
            }
          },
          "metadata": {},
          "execution_count": 20
        }
      ]
    },
    {
      "cell_type": "code",
      "source": [
        "vocab_after_stop = set([w for tokens in df[\"tokens_clean\"] for w in tokens])\n",
        "\n",
        "print(\"Vocabulary size before stopwords removal:\", len(vocab_after))\n",
        "print(\"Vocabulary size after stopwords removal: \", len(vocab_after_stop))"
      ],
      "metadata": {
        "colab": {
          "base_uri": "https://localhost:8080/"
        },
        "id": "tJ0N5tSXxriD",
        "outputId": "26e66c10-c8dc-4e7d-8e2b-19a2939af2fe"
      },
      "execution_count": 21,
      "outputs": [
        {
          "output_type": "stream",
          "name": "stdout",
          "text": [
            "Vocabulary size before stopwords removal: 22383\n",
            "Vocabulary size after stopwords removal:  21957\n"
          ]
        }
      ]
    },
    {
      "cell_type": "code",
      "source": [
        "print(\"\\nSample cleaned tokens (first 5 tweets):\")\n",
        "for i in range(5):\n",
        "    print(f\"Original tokens: {df['tokens'][i]}\")\n",
        "    print(f\"Cleaned tokens: {df['tokens_clean'][i]}\")\n",
        "    print(\"-\" * 50)"
      ],
      "metadata": {
        "colab": {
          "base_uri": "https://localhost:8080/"
        },
        "id": "CVg59_eIxrl-",
        "outputId": "a905351c-2561-4791-f27b-e20f3013a261"
      },
      "execution_count": 22,
      "outputs": [
        {
          "output_type": "stream",
          "name": "stdout",
          "text": [
            "\n",
            "Sample cleaned tokens (first 5 tweets):\n",
            "Original tokens: ['ahhh', 'i', 'hope', 'your', 'ok', '!', '!', '!']\n",
            "Cleaned tokens: ['ahhh', 'hope', 'ok']\n",
            "--------------------------------------------------\n",
            "Original tokens: ['cool', ',', 'i', 'have', 'no', 'tweet', 'apps', 'for', 'my', 'razr', '2']\n",
            "Cleaned tokens: ['cool', 'tweet', 'apps', 'razr', '<NUM>']\n",
            "--------------------------------------------------\n",
            "Original tokens: ['i', 'know', 'just', 'family', 'drama', '.', 'its', 'lame.hey', 'next', 'time', 'u', 'hang', 'out', 'with', 'kim', 'n', 'u', 'guys', 'like', 'have', 'a', 'sleepover', 'or', 'whatever', ',', 'ill', 'call', 'u']\n",
            "Cleaned tokens: ['know', 'family', 'drama', 'lame.hey', 'next', 'time', 'hang', 'kim', 'guys', 'like', 'sleepover', 'whatever', 'ill', 'call']\n",
            "--------------------------------------------------\n",
            "Original tokens: ['school', 'email', 'wo', \"n't\", 'open', 'and', 'i', 'have', 'geography', 'stuff', 'on', 'there', 'to', 'revise', '!', '*', 'stupid', 'school', '*', ':', \"'\", '(']\n",
            "Cleaned tokens: ['school', 'email', 'wo', \"n't\", 'open', 'geography', 'stuff', 'revise', 'stupid', 'school']\n",
            "--------------------------------------------------\n",
            "Original tokens: ['upper', 'airways', 'problem']\n",
            "Cleaned tokens: ['upper', 'airways', 'problem']\n",
            "--------------------------------------------------\n"
          ]
        }
      ]
    },
    {
      "cell_type": "markdown",
      "source": [
        "### *Handling Punctuation and Numbers*\n",
        "\n",
        "---\n",
        "\n",
        "\n",
        "\n",
        "- **Punctuation**: I chose to remove all punctuation marks (such as `. , ! ?`) because they do not provide strong semantic meaning in the Sentiment140 dataset. This helps reduce noise and simplify the token set.  \n",
        "\n",
        "- **Numbers**: Instead of removing numbers, I replaced them with the token `<NUM>`. This way, the model can still capture the information that a number appears in a tweet without treating each different number as a unique token.\n"
      ],
      "metadata": {
        "id": "cpNhfHd3yVJt"
      }
    },
    {
      "cell_type": "markdown",
      "source": [
        "# **5) Stemming vs Lemmatization**"
      ],
      "metadata": {
        "id": "qW2uOZksysmK"
      }
    },
    {
      "cell_type": "markdown",
      "source": [
        "### PorterStemmer"
      ],
      "metadata": {
        "id": "cx2BEFvxzFbX"
      }
    },
    {
      "cell_type": "code",
      "source": [
        "stemmer = PorterStemmer()\n",
        "df[\"stemmed\"] = df[\"tokens_clean\"].apply(lambda tokens: [stemmer.stem(w) for w in tokens])"
      ],
      "metadata": {
        "id": "l9Gx8dFWzEui"
      },
      "execution_count": 23,
      "outputs": []
    },
    {
      "cell_type": "markdown",
      "source": [
        "### spaCy Lemmatizer"
      ],
      "metadata": {
        "id": "sv5FbAWLzRgY"
      }
    },
    {
      "cell_type": "code",
      "source": [
        "nlp = spacy.load(\"en_core_web_sm\", disable=[\"parser\",\"ner\"])\n",
        "def lemmatize_tokens(tokens):\n",
        "    doc = nlp(\" \".join(tokens))\n",
        "    return [token.lemma_ for token in doc]\n",
        "\n",
        "df[\"lemmatized\"] = df[\"tokens_clean\"].apply(lemmatize_tokens)"
      ],
      "metadata": {
        "id": "3QW6op_2xrp3"
      },
      "execution_count": 24,
      "outputs": []
    },
    {
      "cell_type": "code",
      "source": [
        "# 3) Show 20 words comparison\n",
        "sample_words = df[\"tokens_clean\"].explode().dropna().unique()[:20]\n",
        "print(\"{:<15} {:<15} {:<15}\".format(\"Word\", \"Stem\", \"Lemma\"))\n",
        "print(\"-\"*45)\n",
        "for w in sample_words:\n",
        "    print(\"{:<15} {:<15} {:<15}\".format(w, stemmer.stem(w), nlp(w)[0].lemma_))"
      ],
      "metadata": {
        "colab": {
          "base_uri": "https://localhost:8080/"
        },
        "id": "RXx5ndIkzZf3",
        "outputId": "e0cba129-92aa-4b62-c50a-2e5a7bf0d733"
      },
      "execution_count": 25,
      "outputs": [
        {
          "output_type": "stream",
          "name": "stdout",
          "text": [
            "Word            Stem            Lemma          \n",
            "---------------------------------------------\n",
            "ahhh            ahhh            ahhh           \n",
            "hope            hope            hope           \n",
            "ok              ok              ok             \n",
            "cool            cool            cool           \n",
            "tweet           tweet           tweet          \n",
            "apps            app             app            \n",
            "razr            razr            razr           \n",
            "<NUM>           <num>           <              \n",
            "know            know            know           \n",
            "family          famili          family         \n",
            "drama           drama           drama          \n",
            "lame.hey        lame.hey        lame.hey       \n",
            "next            next            next           \n",
            "time            time            time           \n",
            "hang            hang            hang           \n",
            "kim             kim             kim            \n",
            "guys            guy             guy            \n",
            "like            like            like           \n",
            "sleepover       sleepov         sleepover      \n",
            "whatever        whatev          whatever       \n"
          ]
        }
      ]
    },
    {
      "cell_type": "code",
      "source": [
        "df.head()"
      ],
      "metadata": {
        "colab": {
          "base_uri": "https://localhost:8080/",
          "height": 431
        },
        "id": "GC5co0On0Zny",
        "outputId": "3be3b19e-5490-4f21-9eb3-e4858f0bdb77"
      },
      "execution_count": 26,
      "outputs": [
        {
          "output_type": "execute_result",
          "data": {
            "text/plain": [
              "     target          id                          date      flag  \\\n",
              "0  negative  2200003196  Tue Jun 16 18:18:12 PDT 2009  NO_QUERY   \n",
              "1  negative  1467998485  Mon Apr 06 23:11:14 PDT 2009  NO_QUERY   \n",
              "2  negative  2300048954  Tue Jun 23 13:40:11 PDT 2009  NO_QUERY   \n",
              "3  negative  1993474027  Mon Jun 01 10:26:07 PDT 2009  NO_QUERY   \n",
              "4  negative  2256550904  Sat Jun 20 12:56:51 PDT 2009  NO_QUERY   \n",
              "\n",
              "              user                                               text  length  \\\n",
              "0  LaLaLindsey0609             @chrishasboobs AHHH I HOPE YOUR OK!!!       38   \n",
              "1      sexygrneyes  @misstoriblack cool , i have no tweet apps  fo...      57   \n",
              "2       sammydearr  @TiannaChaos i know  just family drama. its la...     137   \n",
              "3      Lamb_Leanne  School email won't open  and I have geography ...      91   \n",
              "4      yogicerdito                             upper airways problem       22   \n",
              "\n",
              "                                          clean_text  \\\n",
              "0                             ahhh i hope your ok!!!   \n",
              "1          cool , i have no tweet apps for my razr 2   \n",
              "2  i know just family drama. its lame.hey next ti...   \n",
              "3  school email won't open and i have geography s...   \n",
              "4                              upper airways problem   \n",
              "\n",
              "                                              tokens  \\\n",
              "0                 [ahhh, i, hope, your, ok, !, !, !]   \n",
              "1  [cool, ,, i, have, no, tweet, apps, for, my, r...   \n",
              "2  [i, know, just, family, drama, ., its, lame.he...   \n",
              "3  [school, email, wo, n't, open, and, i, have, g...   \n",
              "4                          [upper, airways, problem]   \n",
              "\n",
              "                                        tokens_clean  \\\n",
              "0                                   [ahhh, hope, ok]   \n",
              "1                   [cool, tweet, apps, razr, <NUM>]   \n",
              "2  [know, family, drama, lame.hey, next, time, ha...   \n",
              "3  [school, email, wo, n't, open, geography, stuf...   \n",
              "4                          [upper, airways, problem]   \n",
              "\n",
              "                                             stemmed  \\\n",
              "0                                   [ahhh, hope, ok]   \n",
              "1                    [cool, tweet, app, razr, <num>]   \n",
              "2  [know, famili, drama, lame.hey, next, time, ha...   \n",
              "3  [school, email, wo, n't, open, geographi, stuf...   \n",
              "4                           [upper, airway, problem]   \n",
              "\n",
              "                                          lemmatized  \n",
              "0                                   [ahhh, hope, ok]  \n",
              "1                [cool, tweet, app, razr, <, NUM, >]  \n",
              "2  [know, family, drama, lame.hey, next, time, ha...  \n",
              "3  [school, email, will, not, open, geography, st...  \n",
              "4                           [upper, airway, problem]  "
            ],
            "text/html": [
              "\n",
              "  <div id=\"df-e36f9273-2d29-408b-bcaf-d0557edad234\" class=\"colab-df-container\">\n",
              "    <div>\n",
              "<style scoped>\n",
              "    .dataframe tbody tr th:only-of-type {\n",
              "        vertical-align: middle;\n",
              "    }\n",
              "\n",
              "    .dataframe tbody tr th {\n",
              "        vertical-align: top;\n",
              "    }\n",
              "\n",
              "    .dataframe thead th {\n",
              "        text-align: right;\n",
              "    }\n",
              "</style>\n",
              "<table border=\"1\" class=\"dataframe\">\n",
              "  <thead>\n",
              "    <tr style=\"text-align: right;\">\n",
              "      <th></th>\n",
              "      <th>target</th>\n",
              "      <th>id</th>\n",
              "      <th>date</th>\n",
              "      <th>flag</th>\n",
              "      <th>user</th>\n",
              "      <th>text</th>\n",
              "      <th>length</th>\n",
              "      <th>clean_text</th>\n",
              "      <th>tokens</th>\n",
              "      <th>tokens_clean</th>\n",
              "      <th>stemmed</th>\n",
              "      <th>lemmatized</th>\n",
              "    </tr>\n",
              "  </thead>\n",
              "  <tbody>\n",
              "    <tr>\n",
              "      <th>0</th>\n",
              "      <td>negative</td>\n",
              "      <td>2200003196</td>\n",
              "      <td>Tue Jun 16 18:18:12 PDT 2009</td>\n",
              "      <td>NO_QUERY</td>\n",
              "      <td>LaLaLindsey0609</td>\n",
              "      <td>@chrishasboobs AHHH I HOPE YOUR OK!!!</td>\n",
              "      <td>38</td>\n",
              "      <td>ahhh i hope your ok!!!</td>\n",
              "      <td>[ahhh, i, hope, your, ok, !, !, !]</td>\n",
              "      <td>[ahhh, hope, ok]</td>\n",
              "      <td>[ahhh, hope, ok]</td>\n",
              "      <td>[ahhh, hope, ok]</td>\n",
              "    </tr>\n",
              "    <tr>\n",
              "      <th>1</th>\n",
              "      <td>negative</td>\n",
              "      <td>1467998485</td>\n",
              "      <td>Mon Apr 06 23:11:14 PDT 2009</td>\n",
              "      <td>NO_QUERY</td>\n",
              "      <td>sexygrneyes</td>\n",
              "      <td>@misstoriblack cool , i have no tweet apps  fo...</td>\n",
              "      <td>57</td>\n",
              "      <td>cool , i have no tweet apps for my razr 2</td>\n",
              "      <td>[cool, ,, i, have, no, tweet, apps, for, my, r...</td>\n",
              "      <td>[cool, tweet, apps, razr, &lt;NUM&gt;]</td>\n",
              "      <td>[cool, tweet, app, razr, &lt;num&gt;]</td>\n",
              "      <td>[cool, tweet, app, razr, &lt;, NUM, &gt;]</td>\n",
              "    </tr>\n",
              "    <tr>\n",
              "      <th>2</th>\n",
              "      <td>negative</td>\n",
              "      <td>2300048954</td>\n",
              "      <td>Tue Jun 23 13:40:11 PDT 2009</td>\n",
              "      <td>NO_QUERY</td>\n",
              "      <td>sammydearr</td>\n",
              "      <td>@TiannaChaos i know  just family drama. its la...</td>\n",
              "      <td>137</td>\n",
              "      <td>i know just family drama. its lame.hey next ti...</td>\n",
              "      <td>[i, know, just, family, drama, ., its, lame.he...</td>\n",
              "      <td>[know, family, drama, lame.hey, next, time, ha...</td>\n",
              "      <td>[know, famili, drama, lame.hey, next, time, ha...</td>\n",
              "      <td>[know, family, drama, lame.hey, next, time, ha...</td>\n",
              "    </tr>\n",
              "    <tr>\n",
              "      <th>3</th>\n",
              "      <td>negative</td>\n",
              "      <td>1993474027</td>\n",
              "      <td>Mon Jun 01 10:26:07 PDT 2009</td>\n",
              "      <td>NO_QUERY</td>\n",
              "      <td>Lamb_Leanne</td>\n",
              "      <td>School email won't open  and I have geography ...</td>\n",
              "      <td>91</td>\n",
              "      <td>school email won't open and i have geography s...</td>\n",
              "      <td>[school, email, wo, n't, open, and, i, have, g...</td>\n",
              "      <td>[school, email, wo, n't, open, geography, stuf...</td>\n",
              "      <td>[school, email, wo, n't, open, geographi, stuf...</td>\n",
              "      <td>[school, email, will, not, open, geography, st...</td>\n",
              "    </tr>\n",
              "    <tr>\n",
              "      <th>4</th>\n",
              "      <td>negative</td>\n",
              "      <td>2256550904</td>\n",
              "      <td>Sat Jun 20 12:56:51 PDT 2009</td>\n",
              "      <td>NO_QUERY</td>\n",
              "      <td>yogicerdito</td>\n",
              "      <td>upper airways problem</td>\n",
              "      <td>22</td>\n",
              "      <td>upper airways problem</td>\n",
              "      <td>[upper, airways, problem]</td>\n",
              "      <td>[upper, airways, problem]</td>\n",
              "      <td>[upper, airway, problem]</td>\n",
              "      <td>[upper, airway, problem]</td>\n",
              "    </tr>\n",
              "  </tbody>\n",
              "</table>\n",
              "</div>\n",
              "    <div class=\"colab-df-buttons\">\n",
              "\n",
              "  <div class=\"colab-df-container\">\n",
              "    <button class=\"colab-df-convert\" onclick=\"convertToInteractive('df-e36f9273-2d29-408b-bcaf-d0557edad234')\"\n",
              "            title=\"Convert this dataframe to an interactive table.\"\n",
              "            style=\"display:none;\">\n",
              "\n",
              "  <svg xmlns=\"http://www.w3.org/2000/svg\" height=\"24px\" viewBox=\"0 -960 960 960\">\n",
              "    <path d=\"M120-120v-720h720v720H120Zm60-500h600v-160H180v160Zm220 220h160v-160H400v160Zm0 220h160v-160H400v160ZM180-400h160v-160H180v160Zm440 0h160v-160H620v160ZM180-180h160v-160H180v160Zm440 0h160v-160H620v160Z\"/>\n",
              "  </svg>\n",
              "    </button>\n",
              "\n",
              "  <style>\n",
              "    .colab-df-container {\n",
              "      display:flex;\n",
              "      gap: 12px;\n",
              "    }\n",
              "\n",
              "    .colab-df-convert {\n",
              "      background-color: #E8F0FE;\n",
              "      border: none;\n",
              "      border-radius: 50%;\n",
              "      cursor: pointer;\n",
              "      display: none;\n",
              "      fill: #1967D2;\n",
              "      height: 32px;\n",
              "      padding: 0 0 0 0;\n",
              "      width: 32px;\n",
              "    }\n",
              "\n",
              "    .colab-df-convert:hover {\n",
              "      background-color: #E2EBFA;\n",
              "      box-shadow: 0px 1px 2px rgba(60, 64, 67, 0.3), 0px 1px 3px 1px rgba(60, 64, 67, 0.15);\n",
              "      fill: #174EA6;\n",
              "    }\n",
              "\n",
              "    .colab-df-buttons div {\n",
              "      margin-bottom: 4px;\n",
              "    }\n",
              "\n",
              "    [theme=dark] .colab-df-convert {\n",
              "      background-color: #3B4455;\n",
              "      fill: #D2E3FC;\n",
              "    }\n",
              "\n",
              "    [theme=dark] .colab-df-convert:hover {\n",
              "      background-color: #434B5C;\n",
              "      box-shadow: 0px 1px 3px 1px rgba(0, 0, 0, 0.15);\n",
              "      filter: drop-shadow(0px 1px 2px rgba(0, 0, 0, 0.3));\n",
              "      fill: #FFFFFF;\n",
              "    }\n",
              "  </style>\n",
              "\n",
              "    <script>\n",
              "      const buttonEl =\n",
              "        document.querySelector('#df-e36f9273-2d29-408b-bcaf-d0557edad234 button.colab-df-convert');\n",
              "      buttonEl.style.display =\n",
              "        google.colab.kernel.accessAllowed ? 'block' : 'none';\n",
              "\n",
              "      async function convertToInteractive(key) {\n",
              "        const element = document.querySelector('#df-e36f9273-2d29-408b-bcaf-d0557edad234');\n",
              "        const dataTable =\n",
              "          await google.colab.kernel.invokeFunction('convertToInteractive',\n",
              "                                                    [key], {});\n",
              "        if (!dataTable) return;\n",
              "\n",
              "        const docLinkHtml = 'Like what you see? Visit the ' +\n",
              "          '<a target=\"_blank\" href=https://colab.research.google.com/notebooks/data_table.ipynb>data table notebook</a>'\n",
              "          + ' to learn more about interactive tables.';\n",
              "        element.innerHTML = '';\n",
              "        dataTable['output_type'] = 'display_data';\n",
              "        await google.colab.output.renderOutput(dataTable, element);\n",
              "        const docLink = document.createElement('div');\n",
              "        docLink.innerHTML = docLinkHtml;\n",
              "        element.appendChild(docLink);\n",
              "      }\n",
              "    </script>\n",
              "  </div>\n",
              "\n",
              "\n",
              "    <div id=\"df-8850b5e3-6a25-4eb4-b9df-b7e625748c0e\">\n",
              "      <button class=\"colab-df-quickchart\" onclick=\"quickchart('df-8850b5e3-6a25-4eb4-b9df-b7e625748c0e')\"\n",
              "                title=\"Suggest charts\"\n",
              "                style=\"display:none;\">\n",
              "\n",
              "<svg xmlns=\"http://www.w3.org/2000/svg\" height=\"24px\"viewBox=\"0 0 24 24\"\n",
              "     width=\"24px\">\n",
              "    <g>\n",
              "        <path d=\"M19 3H5c-1.1 0-2 .9-2 2v14c0 1.1.9 2 2 2h14c1.1 0 2-.9 2-2V5c0-1.1-.9-2-2-2zM9 17H7v-7h2v7zm4 0h-2V7h2v10zm4 0h-2v-4h2v4z\"/>\n",
              "    </g>\n",
              "</svg>\n",
              "      </button>\n",
              "\n",
              "<style>\n",
              "  .colab-df-quickchart {\n",
              "      --bg-color: #E8F0FE;\n",
              "      --fill-color: #1967D2;\n",
              "      --hover-bg-color: #E2EBFA;\n",
              "      --hover-fill-color: #174EA6;\n",
              "      --disabled-fill-color: #AAA;\n",
              "      --disabled-bg-color: #DDD;\n",
              "  }\n",
              "\n",
              "  [theme=dark] .colab-df-quickchart {\n",
              "      --bg-color: #3B4455;\n",
              "      --fill-color: #D2E3FC;\n",
              "      --hover-bg-color: #434B5C;\n",
              "      --hover-fill-color: #FFFFFF;\n",
              "      --disabled-bg-color: #3B4455;\n",
              "      --disabled-fill-color: #666;\n",
              "  }\n",
              "\n",
              "  .colab-df-quickchart {\n",
              "    background-color: var(--bg-color);\n",
              "    border: none;\n",
              "    border-radius: 50%;\n",
              "    cursor: pointer;\n",
              "    display: none;\n",
              "    fill: var(--fill-color);\n",
              "    height: 32px;\n",
              "    padding: 0;\n",
              "    width: 32px;\n",
              "  }\n",
              "\n",
              "  .colab-df-quickchart:hover {\n",
              "    background-color: var(--hover-bg-color);\n",
              "    box-shadow: 0 1px 2px rgba(60, 64, 67, 0.3), 0 1px 3px 1px rgba(60, 64, 67, 0.15);\n",
              "    fill: var(--button-hover-fill-color);\n",
              "  }\n",
              "\n",
              "  .colab-df-quickchart-complete:disabled,\n",
              "  .colab-df-quickchart-complete:disabled:hover {\n",
              "    background-color: var(--disabled-bg-color);\n",
              "    fill: var(--disabled-fill-color);\n",
              "    box-shadow: none;\n",
              "  }\n",
              "\n",
              "  .colab-df-spinner {\n",
              "    border: 2px solid var(--fill-color);\n",
              "    border-color: transparent;\n",
              "    border-bottom-color: var(--fill-color);\n",
              "    animation:\n",
              "      spin 1s steps(1) infinite;\n",
              "  }\n",
              "\n",
              "  @keyframes spin {\n",
              "    0% {\n",
              "      border-color: transparent;\n",
              "      border-bottom-color: var(--fill-color);\n",
              "      border-left-color: var(--fill-color);\n",
              "    }\n",
              "    20% {\n",
              "      border-color: transparent;\n",
              "      border-left-color: var(--fill-color);\n",
              "      border-top-color: var(--fill-color);\n",
              "    }\n",
              "    30% {\n",
              "      border-color: transparent;\n",
              "      border-left-color: var(--fill-color);\n",
              "      border-top-color: var(--fill-color);\n",
              "      border-right-color: var(--fill-color);\n",
              "    }\n",
              "    40% {\n",
              "      border-color: transparent;\n",
              "      border-right-color: var(--fill-color);\n",
              "      border-top-color: var(--fill-color);\n",
              "    }\n",
              "    60% {\n",
              "      border-color: transparent;\n",
              "      border-right-color: var(--fill-color);\n",
              "    }\n",
              "    80% {\n",
              "      border-color: transparent;\n",
              "      border-right-color: var(--fill-color);\n",
              "      border-bottom-color: var(--fill-color);\n",
              "    }\n",
              "    90% {\n",
              "      border-color: transparent;\n",
              "      border-bottom-color: var(--fill-color);\n",
              "    }\n",
              "  }\n",
              "</style>\n",
              "\n",
              "      <script>\n",
              "        async function quickchart(key) {\n",
              "          const quickchartButtonEl =\n",
              "            document.querySelector('#' + key + ' button');\n",
              "          quickchartButtonEl.disabled = true;  // To prevent multiple clicks.\n",
              "          quickchartButtonEl.classList.add('colab-df-spinner');\n",
              "          try {\n",
              "            const charts = await google.colab.kernel.invokeFunction(\n",
              "                'suggestCharts', [key], {});\n",
              "          } catch (error) {\n",
              "            console.error('Error during call to suggestCharts:', error);\n",
              "          }\n",
              "          quickchartButtonEl.classList.remove('colab-df-spinner');\n",
              "          quickchartButtonEl.classList.add('colab-df-quickchart-complete');\n",
              "        }\n",
              "        (() => {\n",
              "          let quickchartButtonEl =\n",
              "            document.querySelector('#df-8850b5e3-6a25-4eb4-b9df-b7e625748c0e button');\n",
              "          quickchartButtonEl.style.display =\n",
              "            google.colab.kernel.accessAllowed ? 'block' : 'none';\n",
              "        })();\n",
              "      </script>\n",
              "    </div>\n",
              "\n",
              "    </div>\n",
              "  </div>\n"
            ],
            "application/vnd.google.colaboratory.intrinsic+json": {
              "type": "dataframe",
              "variable_name": "df",
              "summary": "{\n  \"name\": \"df\",\n  \"rows\": 20000,\n  \"fields\": [\n    {\n      \"column\": \"target\",\n      \"properties\": {\n        \"dtype\": \"category\",\n        \"num_unique_values\": 2,\n        \"samples\": [\n          \"positive\",\n          \"negative\"\n        ],\n        \"semantic_type\": \"\",\n        \"description\": \"\"\n      }\n    },\n    {\n      \"column\": \"id\",\n      \"properties\": {\n        \"dtype\": \"number\",\n        \"std\": 193886700,\n        \"min\": 1467815753,\n        \"max\": 2329178558,\n        \"num_unique_values\": 19999,\n        \"samples\": [\n          2218868086,\n          1999759768\n        ],\n        \"semantic_type\": \"\",\n        \"description\": \"\"\n      }\n    },\n    {\n      \"column\": \"date\",\n      \"properties\": {\n        \"dtype\": \"object\",\n        \"num_unique_values\": 19709,\n        \"samples\": [\n          \"Sun May 31 10:41:37 PDT 2009\",\n          \"Sun Jun 07 18:51:40 PDT 2009\"\n        ],\n        \"semantic_type\": \"\",\n        \"description\": \"\"\n      }\n    },\n    {\n      \"column\": \"flag\",\n      \"properties\": {\n        \"dtype\": \"category\",\n        \"num_unique_values\": 1,\n        \"samples\": [\n          \"NO_QUERY\"\n        ],\n        \"semantic_type\": \"\",\n        \"description\": \"\"\n      }\n    },\n    {\n      \"column\": \"user\",\n      \"properties\": {\n        \"dtype\": \"string\",\n        \"num_unique_values\": 18965,\n        \"samples\": [\n          \"LadyMissSonic\"\n        ],\n        \"semantic_type\": \"\",\n        \"description\": \"\"\n      }\n    },\n    {\n      \"column\": \"text\",\n      \"properties\": {\n        \"dtype\": \"string\",\n        \"num_unique_values\": 19982,\n        \"samples\": [\n          \"@gooberbaby13 aww, it's great!  we all should hang out soon.  [;  @bwanalilolath @acely @allisonjones49 thank you!  \"\n        ],\n        \"semantic_type\": \"\",\n        \"description\": \"\"\n      }\n    },\n    {\n      \"column\": \"length\",\n      \"properties\": {\n        \"dtype\": \"number\",\n        \"std\": 36,\n        \"min\": 8,\n        \"max\": 222,\n        \"num_unique_values\": 154,\n        \"samples\": [\n          112\n        ],\n        \"semantic_type\": \"\",\n        \"description\": \"\"\n      }\n    },\n    {\n      \"column\": \"clean_text\",\n      \"properties\": {\n        \"dtype\": \"string\",\n        \"num_unique_values\": 19811,\n        \"samples\": [\n          \"i'm waiting for you to come home to me\"\n        ],\n        \"semantic_type\": \"\",\n        \"description\": \"\"\n      }\n    },\n    {\n      \"column\": \"tokens\",\n      \"properties\": {\n        \"dtype\": \"object\",\n        \"semantic_type\": \"\",\n        \"description\": \"\"\n      }\n    },\n    {\n      \"column\": \"tokens_clean\",\n      \"properties\": {\n        \"dtype\": \"object\",\n        \"semantic_type\": \"\",\n        \"description\": \"\"\n      }\n    },\n    {\n      \"column\": \"stemmed\",\n      \"properties\": {\n        \"dtype\": \"object\",\n        \"semantic_type\": \"\",\n        \"description\": \"\"\n      }\n    },\n    {\n      \"column\": \"lemmatized\",\n      \"properties\": {\n        \"dtype\": \"object\",\n        \"semantic_type\": \"\",\n        \"description\": \"\"\n      }\n    }\n  ]\n}"
            }
          },
          "metadata": {},
          "execution_count": 26
        }
      ]
    },
    {
      "cell_type": "markdown",
      "source": [
        "### **Quick model comparison**"
      ],
      "metadata": {
        "id": "fDuE6hHSzhUo"
      }
    },
    {
      "cell_type": "code",
      "source": [
        "# Prepare data\n",
        "X_train, X_test, y_train, y_test = train_test_split(\n",
        "    df[\"clean_text\"], df[\"target\"], test_size=0.2, random_state=42\n",
        ")"
      ],
      "metadata": {
        "id": "fnwoEWhmzmRB"
      },
      "execution_count": 27,
      "outputs": []
    },
    {
      "cell_type": "markdown",
      "source": [
        "Model for stemming"
      ],
      "metadata": {
        "id": "vNKC96otz-uQ"
      }
    },
    {
      "cell_type": "code",
      "source": [
        "stem_texts = [\" \".join(tokens) for tokens in df[\"stemmed\"]]\n",
        "\n",
        "X_train_s, X_test_s, y_train_s, y_test_s = train_test_split(\n",
        "    stem_texts, df[\"target\"], test_size=0.2, random_state=42\n",
        ")\n",
        "\n",
        "vec_s = TfidfVectorizer(max_features=5000)\n",
        "X_train_s_vec = vec_s.fit_transform(X_train_s)\n",
        "X_test_s_vec = vec_s.transform(X_test_s)\n",
        "\n",
        "clf_s = LogisticRegression(max_iter=1000)\n",
        "clf_s.fit(X_train_s_vec, y_train_s)\n",
        "pred_s = clf_s.predict(X_test_s_vec)"
      ],
      "metadata": {
        "id": "LiYLl1IHzr3x"
      },
      "execution_count": 28,
      "outputs": []
    },
    {
      "cell_type": "markdown",
      "source": [
        "Model for lemmatization"
      ],
      "metadata": {
        "id": "UVZ3JdxJ0Dy2"
      }
    },
    {
      "cell_type": "code",
      "source": [
        "lemma_texts = [\" \".join(tokens) for tokens in df[\"lemmatized\"]]\n",
        "\n",
        "X_train_l, X_test_l, y_train_l, y_test_l = train_test_split(\n",
        "    lemma_texts, df[\"target\"], test_size=0.2, random_state=42\n",
        ")\n",
        "\n",
        "vec_l = TfidfVectorizer(max_features=5000)\n",
        "X_train_l_vec = vec_l.fit_transform(X_train_l)\n",
        "X_test_l_vec = vec_l.transform(X_test_l)\n",
        "\n",
        "clf_l = LogisticRegression(max_iter=1000)\n",
        "clf_l.fit(X_train_l_vec, y_train_l)\n",
        "pred_l = clf_l.predict(X_test_l_vec)"
      ],
      "metadata": {
        "id": "rXjqJFK7zsE2"
      },
      "execution_count": 29,
      "outputs": []
    },
    {
      "cell_type": "code",
      "source": [
        "# Evaluation\n",
        "print(\"\\nModel Comparison:\")\n",
        "print(\"-\"*45)\n",
        "print(\"Stemming - Accuracy:\", accuracy_score(y_test_s, pred_s),\n",
        "      \"F1:\", f1_score(y_test_s, pred_s, average=\"weighted\"))\n",
        "print(\"Lemmatization - Accuracy:\", accuracy_score(y_test_l, pred_l),\n",
        "      \"F1:\", f1_score(y_test_l, pred_l, average=\"weighted\"))"
      ],
      "metadata": {
        "colab": {
          "base_uri": "https://localhost:8080/"
        },
        "id": "w5YuyLkezsId",
        "outputId": "55b124e6-3b1a-4fa1-ac84-bb6c7f5cb9f2"
      },
      "execution_count": 30,
      "outputs": [
        {
          "output_type": "stream",
          "name": "stdout",
          "text": [
            "\n",
            "Model Comparison:\n",
            "---------------------------------------------\n",
            "Stemming - Accuracy: 0.732 F1: 0.7318036413373541\n",
            "Lemmatization - Accuracy: 0.7395 F1: 0.7393430559558695\n"
          ]
        }
      ]
    },
    {
      "cell_type": "markdown",
      "source": [
        "# **6) POS Tagging**"
      ],
      "metadata": {
        "id": "oMrZS_kk61mQ"
      }
    },
    {
      "cell_type": "code",
      "source": [
        "nlp = spacy.load(\"en_core_web_sm\", disable=[\"parser\",\"ner\"])"
      ],
      "metadata": {
        "id": "QPWf7JdPzsL6"
      },
      "execution_count": 31,
      "outputs": []
    },
    {
      "cell_type": "code",
      "source": [
        "def pos_counts(text):\n",
        "    doc = nlp(text)\n",
        "    nouns = sum(1 for token in doc if token.pos_ == \"NOUN\")\n",
        "    verbs = sum(1 for token in doc if token.pos_ == \"VERB\")\n",
        "    adjs  = sum(1 for token in doc if token.pos_ == \"ADJ\")\n",
        "    return [nouns, verbs, adjs]"
      ],
      "metadata": {
        "id": "JuhWcGPs7pSY"
      },
      "execution_count": 32,
      "outputs": []
    },
    {
      "cell_type": "code",
      "source": [
        "lemma_texts = [\" \".join(tokens) for tokens in df[\"lemmatized\"]]"
      ],
      "metadata": {
        "id": "Ve5id5A27stm"
      },
      "execution_count": 33,
      "outputs": []
    },
    {
      "cell_type": "code",
      "source": [
        "X_train, X_test, y_train, y_test = train_test_split(\n",
        "    lemma_texts, df[\"target\"], test_size=0.2, random_state=42\n",
        ")"
      ],
      "metadata": {
        "id": "NmkvypjB7vJ4"
      },
      "execution_count": 34,
      "outputs": []
    },
    {
      "cell_type": "code",
      "source": [
        "vec = TfidfVectorizer(max_features=5000)\n",
        "X_train_vec = vec.fit_transform(X_train)\n",
        "X_test_vec = vec.transform(X_test)\n",
        "\n",
        "clf = LogisticRegression(max_iter=1000)\n",
        "clf.fit(X_train_vec, y_train)\n",
        "pred_base = clf.predict(X_test_vec)\n",
        "\n",
        "print(\"Without POS - Accuracy:\", accuracy_score(y_test, pred_base),\n",
        "      \"F1:\", f1_score(y_test, pred_base, average=\"weighted\"))"
      ],
      "metadata": {
        "colab": {
          "base_uri": "https://localhost:8080/"
        },
        "id": "GEIjybUs72Gr",
        "outputId": "b6c50473-8fcd-4b84-d1ce-49758a2272b1"
      },
      "execution_count": 35,
      "outputs": [
        {
          "output_type": "stream",
          "name": "stdout",
          "text": [
            "Without POS - Accuracy: 0.7395 F1: 0.7393430559558695\n"
          ]
        }
      ]
    },
    {
      "cell_type": "code",
      "source": [
        "X_train_pos = np.array([pos_counts(text) for text in X_train])\n",
        "X_test_pos = np.array([pos_counts(text) for text in X_test])\n",
        "\n",
        "# Combine TF-IDF features with POS features\n",
        "X_train_combined = hstack([X_train_vec, X_train_pos])\n",
        "X_test_combined = hstack([X_test_vec, X_test_pos])\n",
        "\n",
        "clf_pos = LogisticRegression(max_iter=1000)\n",
        "clf_pos.fit(X_train_combined, y_train)\n",
        "pred_pos = clf_pos.predict(X_test_combined)\n",
        "\n",
        "print(\"With POS - Accuracy:\", accuracy_score(y_test, pred_pos),\n",
        "      \"F1:\", f1_score(y_test, pred_pos, average=\"weighted\"))"
      ],
      "metadata": {
        "colab": {
          "base_uri": "https://localhost:8080/"
        },
        "id": "LnzuZZr072Xy",
        "outputId": "d46a3163-d0ec-4cc6-d65d-4d1bdcccf1f2"
      },
      "execution_count": 36,
      "outputs": [
        {
          "output_type": "stream",
          "name": "stdout",
          "text": [
            "With POS - Accuracy: 0.738 F1: 0.7378548772054828\n"
          ]
        }
      ]
    },
    {
      "cell_type": "markdown",
      "source": [
        "# **7) Text Representation**"
      ],
      "metadata": {
        "id": "9B3qJy8y9V8r"
      }
    },
    {
      "cell_type": "code",
      "source": [
        "texts = [\" \".join(tokens) for tokens in df[\"lemmatized\"]]"
      ],
      "metadata": {
        "id": "2OkWtwGq72pk"
      },
      "execution_count": 37,
      "outputs": []
    },
    {
      "cell_type": "markdown",
      "source": [
        "### Bag-of-Words"
      ],
      "metadata": {
        "id": "neeUPLRY-F0k"
      }
    },
    {
      "cell_type": "code",
      "source": [
        "bow_vectorizer = CountVectorizer(max_features=5000)\n",
        "X_bow = bow_vectorizer.fit_transform(texts)\n",
        "\n",
        "print(\"Vocabulary size:\", len(bow_vectorizer.vocabulary_))\n",
        "print(\"Representation shape:\", X_bow.shape)"
      ],
      "metadata": {
        "colab": {
          "base_uri": "https://localhost:8080/"
        },
        "id": "LRwNZedw9XYs",
        "outputId": "3155816f-20af-470b-84f8-7e32cecabbec"
      },
      "execution_count": 38,
      "outputs": [
        {
          "output_type": "stream",
          "name": "stdout",
          "text": [
            "Vocabulary size: 5000\n",
            "Representation shape: (20000, 5000)\n"
          ]
        }
      ]
    },
    {
      "cell_type": "markdown",
      "source": [
        "### TF-IDF"
      ],
      "metadata": {
        "id": "qMx4J9lx-MfJ"
      }
    },
    {
      "cell_type": "code",
      "source": [
        "tfidf_vectorizer = TfidfVectorizer(max_features=5000)\n",
        "X_tfidf = tfidf_vectorizer.fit_transform(texts)\n",
        "\n",
        "print(\"Vocabulary size:\", len(tfidf_vectorizer.vocabulary_))\n",
        "print(\"Representation shape:\", X_tfidf.shape)"
      ],
      "metadata": {
        "colab": {
          "base_uri": "https://localhost:8080/"
        },
        "id": "_cJrG5V_9pNt",
        "outputId": "bbc9100f-cebd-4cb0-cdd3-4b9a3d655e90"
      },
      "execution_count": 39,
      "outputs": [
        {
          "output_type": "stream",
          "name": "stdout",
          "text": [
            "Vocabulary size: 5000\n",
            "Representation shape: (20000, 5000)\n"
          ]
        }
      ]
    },
    {
      "cell_type": "markdown",
      "source": [
        "### Word2Vec"
      ],
      "metadata": {
        "id": "4OgiC_7l-dEI"
      }
    },
    {
      "cell_type": "code",
      "source": [
        "import gensim.downloader as api\n",
        "w2v_model = api.load(\"glove-twitter-100\")\n",
        "\n",
        "\n",
        "def avg_word2vec(tokens, model, k=100):\n",
        "    vecs = []\n",
        "    for word in tokens:\n",
        "        if word in model:\n",
        "            vecs.append(model[word])\n",
        "    if len(vecs) == 0:\n",
        "        return np.zeros(k)\n",
        "    else:\n",
        "        return np.mean(vecs, axis=0)\n",
        "\n",
        "X_w2v = np.vstack([avg_word2vec(tokens, w2v_model, 100) for tokens in df[\"lemmatized\"]])\n",
        "\n",
        "print(\"Embedding dimension:\", X_w2v.shape[1])\n",
        "print(\"Representation shape:\", X_w2v.shape)"
      ],
      "metadata": {
        "colab": {
          "base_uri": "https://localhost:8080/"
        },
        "id": "wD5b24BM9pbB",
        "outputId": "b62e5568-a882-411e-b04b-04c07dd60749"
      },
      "execution_count": 40,
      "outputs": [
        {
          "output_type": "stream",
          "name": "stdout",
          "text": [
            "Embedding dimension: 100\n",
            "Representation shape: (20000, 100)\n"
          ]
        }
      ]
    },
    {
      "cell_type": "markdown",
      "source": [
        "# **8) Modeling**"
      ],
      "metadata": {
        "id": "VDM7R9xzBH91"
      }
    },
    {
      "cell_type": "code",
      "source": [
        "df[\"final_clean_text\"] = df[\"tokens_clean\"].apply(lambda x: \" \".join(x))\n"
      ],
      "metadata": {
        "id": "QlWx4qeoCS0H"
      },
      "execution_count": 44,
      "outputs": []
    },
    {
      "cell_type": "code",
      "source": [
        "X = df[\"final_clean_text\"]\n",
        "y = df[\"target\"]\n",
        "\n",
        "X_train, X_test, y_train, y_test = train_test_split(\n",
        "    X, y, test_size=0.2, random_state=42\n",
        ")\n"
      ],
      "metadata": {
        "id": "95zwjbKM9pj8"
      },
      "execution_count": 53,
      "outputs": []
    },
    {
      "cell_type": "markdown",
      "source": [
        "### Naive Bayes (BoW)"
      ],
      "metadata": {
        "id": "N3WfhisGFYrV"
      }
    },
    {
      "cell_type": "code",
      "source": [
        "pipe_nb_bow = Pipeline([\n",
        "    (\"vect\", CountVectorizer(max_features=5000)),\n",
        "    (\"clf\", MultinomialNB())\n",
        "])\n",
        "\n",
        "pipe_nb_bow.fit(X_train, y_train)\n",
        "preds_nb_bow = pipe_nb_bow.predict(X_test)\n",
        "\n",
        "print(\"Naive Bayes (BoW)\")\n",
        "print(\"Accuracy:\", accuracy_score(y_test, preds_nb_bow))\n",
        "print(\"F1-score:\", f1_score(y_test, preds_nb_bow, average=\"weighted\"))"
      ],
      "metadata": {
        "colab": {
          "base_uri": "https://localhost:8080/"
        },
        "id": "oR3cadXzBjWe",
        "outputId": "81b5133a-de7d-490c-f9d3-bd3c0c8178c4"
      },
      "execution_count": 54,
      "outputs": [
        {
          "output_type": "stream",
          "name": "stdout",
          "text": [
            "Naive Bayes (BoW)\n",
            "Accuracy: 0.72375\n",
            "F1-score: 0.7237445609116948\n"
          ]
        }
      ]
    },
    {
      "cell_type": "markdown",
      "source": [
        "### Naive Bayes (TF–IDF)"
      ],
      "metadata": {
        "id": "zn-ZzgFOFjUW"
      }
    },
    {
      "cell_type": "code",
      "source": [
        "pipe_nb_tfidf = Pipeline([\n",
        "    (\"vect\", TfidfVectorizer(max_features=5000)),\n",
        "    (\"clf\", MultinomialNB())\n",
        "])\n",
        "\n",
        "pipe_nb_tfidf.fit(X_train, y_train)\n",
        "preds_nb_tfidf = pipe_nb_tfidf.predict(X_test)\n",
        "\n",
        "print(\"Naive Bayes (TF–IDF)\")\n",
        "print(\"Accuracy:\", accuracy_score(y_test, preds_nb_tfidf))\n",
        "print(\"F1-score:\", f1_score(y_test, preds_nb_tfidf, average=\"weighted\"))"
      ],
      "metadata": {
        "colab": {
          "base_uri": "https://localhost:8080/"
        },
        "id": "Ym22tw1_C7hk",
        "outputId": "78158c40-d652-49a9-cdc8-3b7dff08c337"
      },
      "execution_count": 55,
      "outputs": [
        {
          "output_type": "stream",
          "name": "stdout",
          "text": [
            "Naive Bayes (TF–IDF)\n",
            "Accuracy: 0.72575\n",
            "F1-score: 0.7257460402461142\n"
          ]
        }
      ]
    },
    {
      "cell_type": "markdown",
      "source": [
        "### Logistic Regression (TF–IDF)"
      ],
      "metadata": {
        "id": "3UqV2RyOFsuQ"
      }
    },
    {
      "cell_type": "code",
      "source": [
        "# Logistic Regression with TF–IDF\n",
        "pipe_logreg = Pipeline([\n",
        "    (\"vect\", TfidfVectorizer(max_features=5000)),\n",
        "    (\"clf\", LogisticRegression(max_iter=1000))\n",
        "])\n",
        "\n",
        "pipe_logreg.fit(X_train, y_train)\n",
        "preds_logreg = pipe_logreg.predict(X_test)\n",
        "\n",
        "print(\"Logistic Regression (TF–IDF)\")\n",
        "print(\"Accuracy:\", accuracy_score(y_test, preds_logreg))\n",
        "print(\"F1-score:\", f1_score(y_test, preds_logreg, average=\"weighted\"))"
      ],
      "metadata": {
        "colab": {
          "base_uri": "https://localhost:8080/"
        },
        "id": "RpAYejhXC8GP",
        "outputId": "28b6fa46-dc52-4b0c-fb12-96e9c7b47565"
      },
      "execution_count": 56,
      "outputs": [
        {
          "output_type": "stream",
          "name": "stdout",
          "text": [
            "Logistic Regression (TF–IDF)\n",
            "Accuracy: 0.72625\n",
            "F1-score: 0.7260816633912403\n"
          ]
        }
      ]
    },
    {
      "cell_type": "markdown",
      "source": [
        "### Linear SVM with TF–IDF"
      ],
      "metadata": {
        "id": "xs2tCQMVFwYn"
      }
    },
    {
      "cell_type": "code",
      "source": [
        "# Linear SVM with TF–IDF\n",
        "pipe_svm = Pipeline([\n",
        "    (\"vect\", TfidfVectorizer(max_features=5000)),\n",
        "    (\"clf\", LinearSVC())\n",
        "])\n",
        "\n",
        "pipe_svm.fit(X_train, y_train)\n",
        "preds_svm = pipe_svm.predict(X_test)\n",
        "\n",
        "print(\"Linear SVM (TF–IDF)\")\n",
        "print(\"Accuracy:\", accuracy_score(y_test, preds_svm))\n",
        "print(\"F1-score:\", f1_score(y_test, preds_svm, average=\"weighted\"))\n"
      ],
      "metadata": {
        "colab": {
          "base_uri": "https://localhost:8080/"
        },
        "id": "zvGGvRRdDAus",
        "outputId": "da11d25e-80b6-4948-e3f6-d5154a902eff"
      },
      "execution_count": 57,
      "outputs": [
        {
          "output_type": "stream",
          "name": "stdout",
          "text": [
            "Linear SVM (TF–IDF)\n",
            "Accuracy: 0.7065\n",
            "F1-score: 0.7063641713570983\n"
          ]
        }
      ]
    },
    {
      "cell_type": "markdown",
      "source": [
        "**comparison table**\n",
        "\n",
        "---\n",
        "\n",
        "\n",
        "\n",
        "| Model                                      | Accuracy | F1-score|\n",
        "|--------------------------------------------|---------|----------|\n",
        "| Naive Bayes (BoW)                          | 0.7238  | 0.7237   |\n",
        "| Naive Bayes (TF–IDF)                       | 0.7258  | 0.7257   |\n",
        "| Logistic Regression (TF–IDF)               | 0.7263  | 0.7261   |\n",
        "| Linear SVM (TF–IDF)                        | 0.7065  | 0.7064   |\n"
      ],
      "metadata": {
        "id": "ksD9BTsnEOrh"
      }
    },
    {
      "cell_type": "markdown",
      "source": [
        "# **9) Evaluation & Error Analysis**"
      ],
      "metadata": {
        "id": "41AHgEpDF8DI"
      }
    },
    {
      "cell_type": "code",
      "source": [
        "best_model = pipe_logreg       #LR"
      ],
      "metadata": {
        "id": "jWKWl1uxDELe"
      },
      "execution_count": 59,
      "outputs": []
    },
    {
      "cell_type": "code",
      "source": [
        "y_pred = best_model.predict(X_test)"
      ],
      "metadata": {
        "id": "Agtl4hTYFFaW"
      },
      "execution_count": 60,
      "outputs": []
    },
    {
      "cell_type": "code",
      "source": [
        "print(\"Classification Report:\")\n",
        "print(classification_report(y_test, y_pred))"
      ],
      "metadata": {
        "colab": {
          "base_uri": "https://localhost:8080/"
        },
        "id": "qw_16qbiG59Q",
        "outputId": "dbb3d5a1-ccb8-400a-f076-850bbc10fee3"
      },
      "execution_count": 61,
      "outputs": [
        {
          "output_type": "stream",
          "name": "stdout",
          "text": [
            "Classification Report:\n",
            "              precision    recall  f1-score   support\n",
            "\n",
            "    negative       0.73      0.70      0.72      1987\n",
            "    positive       0.72      0.75      0.73      2013\n",
            "\n",
            "    accuracy                           0.73      4000\n",
            "   macro avg       0.73      0.73      0.73      4000\n",
            "weighted avg       0.73      0.73      0.73      4000\n",
            "\n"
          ]
        }
      ]
    },
    {
      "cell_type": "code",
      "source": [
        "cm = confusion_matrix(y_test, y_pred, labels=[\"negative\",\"positive\"])\n",
        "cm_df = pd.DataFrame(cm, index=[\"Actual Negative\",\"Actual Positive\"],\n",
        "                     columns=[\"Predicted Negative\",\"Predicted Positive\"])\n",
        "print(\"\\nConfusion Matrix:\")\n",
        "print(cm_df)"
      ],
      "metadata": {
        "colab": {
          "base_uri": "https://localhost:8080/"
        },
        "id": "u5aSuWgcG6G2",
        "outputId": "404d62e0-eea8-40e8-80a2-d57424b2e2c8"
      },
      "execution_count": 62,
      "outputs": [
        {
          "output_type": "stream",
          "name": "stdout",
          "text": [
            "\n",
            "Confusion Matrix:\n",
            "                 Predicted Negative  Predicted Positive\n",
            "Actual Negative                1396                 591\n",
            "Actual Positive                 504                1509\n"
          ]
        }
      ]
    },
    {
      "cell_type": "code",
      "source": [
        "misclassified_idx = np.where(y_test != y_pred)[0]\n",
        "misclassified_samples = pd.DataFrame({\n",
        "    \"Tweet\": X_test.iloc[misclassified_idx],\n",
        "    \"Actual\": y_test.iloc[misclassified_idx],\n",
        "    \"Predicted\": y_pred[misclassified_idx]\n",
        "})\n",
        "\n",
        "print(\"\\n10 Misclassified Tweets:\")\n",
        "print(misclassified_samples.sample(10, random_state=42))"
      ],
      "metadata": {
        "colab": {
          "base_uri": "https://localhost:8080/"
        },
        "id": "IiJ6e2LpG6KU",
        "outputId": "c0872862-0381-4596-efd7-0edfcf4fdc18"
      },
      "execution_count": 64,
      "outputs": [
        {
          "output_type": "stream",
          "name": "stdout",
          "text": [
            "\n",
            "10 Misclassified Tweets:\n",
            "                                                   Tweet    Actual Predicted\n",
            "14236                              im kinda hopin 's atl  positive  negative\n",
            "1084   gi sounds stupid tell any1 bout pic tht sent s...  positive  negative\n",
            "10807  tom ear still 'peeee concert yesterday annoyin...  positive  negative\n",
            "5227   everyone invited 're right ... weather n't loo...  negative  positive\n",
            "8359                    somehow knew coke zero good true  negative  positive\n",
            "4528   want laptop wish macs n't schools victoria get...  positive  negative\n",
            "11233  jordans leaving party tonight going great thin...  negative  positive\n",
            "18385             newly launched locks firefox time time  negative  positive\n",
            "19474  starbucks hiding pouring rain got umbrella jac...  negative  positive\n",
            "2885   's raining ... always something weather chicag...  negative  positive\n"
          ]
        }
      ]
    },
    {
      "cell_type": "markdown",
      "source": [
        "###  Why Some Tweets Are Difficult to Classify\n",
        "\n",
        "---\n",
        "\n",
        "\n",
        "\n",
        "model struggled with certain tweets due to the following reasons:\n",
        "\n",
        "- **Negation and sarcasm**: Phrases like \"not happy\" or ironic statements confuse classical models.  \n",
        "- **Positive words in negative context**: Words like \"great\" or \"good\" can mislead the model when overall sentiment is negative.  \n",
        "- **Short or ambiguous text**: Very short tweets or those lacking clear sentiment cues are hard to classify.  \n",
        "- **Noisy content**: Mentions, hashtags, and informal language add complexity.  \n",
        "\n",
        "These issues highlight the limitations of keyword-based models like TF–IDF + Logistic Regression in capturing context and subtle sentiment.\n"
      ],
      "metadata": {
        "id": "VKhSvAUfIxt_"
      }
    },
    {
      "cell_type": "markdown",
      "source": [
        "# **10) Saving Model**"
      ],
      "metadata": {
        "id": "LmzGRrvjJexx"
      }
    },
    {
      "cell_type": "code",
      "source": [
        "import joblib\n",
        "\n",
        "joblib.dump(pipe_logreg, \"sentiment_model.pkl\")\n",
        "print(\"Model saved as sentiment_model.pkl\")\n"
      ],
      "metadata": {
        "colab": {
          "base_uri": "https://localhost:8080/"
        },
        "id": "_HQtkVdZI_ZU",
        "outputId": "8f164030-2f77-447f-ad80-1275e8e38c6f"
      },
      "execution_count": 65,
      "outputs": [
        {
          "output_type": "stream",
          "name": "stdout",
          "text": [
            "Model saved as sentiment_model.pkl\n"
          ]
        }
      ]
    },
    {
      "cell_type": "code",
      "source": [],
      "metadata": {
        "id": "NMLlBWM5K06M"
      },
      "execution_count": null,
      "outputs": []
    }
  ]
}